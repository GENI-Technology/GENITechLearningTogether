{
  "nbformat": 4,
  "nbformat_minor": 0,
  "metadata": {
    "colab": {
      "provenance": [],
      "gpuType": "T4",
      "authorship_tag": "ABX9TyM9tmPYA0OyNHHJPeFiPlpH",
      "include_colab_link": true
    },
    "kernelspec": {
      "name": "python3",
      "display_name": "Python 3"
    },
    "language_info": {
      "name": "python"
    },
    "accelerator": "GPU",
    "widgets": {
      "application/vnd.jupyter.widget-state+json": {
        "52922bddfc5d4844aec6a29da290532f": {
          "model_module": "@jupyter-widgets/controls",
          "model_name": "HBoxModel",
          "model_module_version": "1.5.0",
          "state": {
            "_dom_classes": [],
            "_model_module": "@jupyter-widgets/controls",
            "_model_module_version": "1.5.0",
            "_model_name": "HBoxModel",
            "_view_count": null,
            "_view_module": "@jupyter-widgets/controls",
            "_view_module_version": "1.5.0",
            "_view_name": "HBoxView",
            "box_style": "",
            "children": [
              "IPY_MODEL_35428debe85a4494a742970eb9dea703",
              "IPY_MODEL_6ffff0ee51a349aa8adb39a231472317",
              "IPY_MODEL_636125f5e63541ff861360a1ba5d1611"
            ],
            "layout": "IPY_MODEL_dd8061524f544f0daee5b94ce251ed98"
          }
        },
        "35428debe85a4494a742970eb9dea703": {
          "model_module": "@jupyter-widgets/controls",
          "model_name": "HTMLModel",
          "model_module_version": "1.5.0",
          "state": {
            "_dom_classes": [],
            "_model_module": "@jupyter-widgets/controls",
            "_model_module_version": "1.5.0",
            "_model_name": "HTMLModel",
            "_view_count": null,
            "_view_module": "@jupyter-widgets/controls",
            "_view_module_version": "1.5.0",
            "_view_name": "HTMLView",
            "description": "",
            "description_tooltip": null,
            "layout": "IPY_MODEL_5ffe847ecb3a422fac408544069d1b2f",
            "placeholder": "​",
            "style": "IPY_MODEL_2e3c115bc75b4766a44b8ef61d8fead1",
            "value": "Loading checkpoint shards: 100%"
          }
        },
        "6ffff0ee51a349aa8adb39a231472317": {
          "model_module": "@jupyter-widgets/controls",
          "model_name": "FloatProgressModel",
          "model_module_version": "1.5.0",
          "state": {
            "_dom_classes": [],
            "_model_module": "@jupyter-widgets/controls",
            "_model_module_version": "1.5.0",
            "_model_name": "FloatProgressModel",
            "_view_count": null,
            "_view_module": "@jupyter-widgets/controls",
            "_view_module_version": "1.5.0",
            "_view_name": "ProgressView",
            "bar_style": "success",
            "description": "",
            "description_tooltip": null,
            "layout": "IPY_MODEL_93eb987f7e914d0dab6bfcb6b2513ce6",
            "max": 3,
            "min": 0,
            "orientation": "horizontal",
            "style": "IPY_MODEL_86185c3635424ba8bf157d98addd3854",
            "value": 3
          }
        },
        "636125f5e63541ff861360a1ba5d1611": {
          "model_module": "@jupyter-widgets/controls",
          "model_name": "HTMLModel",
          "model_module_version": "1.5.0",
          "state": {
            "_dom_classes": [],
            "_model_module": "@jupyter-widgets/controls",
            "_model_module_version": "1.5.0",
            "_model_name": "HTMLModel",
            "_view_count": null,
            "_view_module": "@jupyter-widgets/controls",
            "_view_module_version": "1.5.0",
            "_view_name": "HTMLView",
            "description": "",
            "description_tooltip": null,
            "layout": "IPY_MODEL_68e6efb01fbd426a9c16316c5993aae1",
            "placeholder": "​",
            "style": "IPY_MODEL_285978cbcbaa4a82b1b4b7724601c802",
            "value": " 3/3 [00:56&lt;00:00, 20.24s/it]"
          }
        },
        "dd8061524f544f0daee5b94ce251ed98": {
          "model_module": "@jupyter-widgets/base",
          "model_name": "LayoutModel",
          "model_module_version": "1.2.0",
          "state": {
            "_model_module": "@jupyter-widgets/base",
            "_model_module_version": "1.2.0",
            "_model_name": "LayoutModel",
            "_view_count": null,
            "_view_module": "@jupyter-widgets/base",
            "_view_module_version": "1.2.0",
            "_view_name": "LayoutView",
            "align_content": null,
            "align_items": null,
            "align_self": null,
            "border": null,
            "bottom": null,
            "display": null,
            "flex": null,
            "flex_flow": null,
            "grid_area": null,
            "grid_auto_columns": null,
            "grid_auto_flow": null,
            "grid_auto_rows": null,
            "grid_column": null,
            "grid_gap": null,
            "grid_row": null,
            "grid_template_areas": null,
            "grid_template_columns": null,
            "grid_template_rows": null,
            "height": null,
            "justify_content": null,
            "justify_items": null,
            "left": null,
            "margin": null,
            "max_height": null,
            "max_width": null,
            "min_height": null,
            "min_width": null,
            "object_fit": null,
            "object_position": null,
            "order": null,
            "overflow": null,
            "overflow_x": null,
            "overflow_y": null,
            "padding": null,
            "right": null,
            "top": null,
            "visibility": null,
            "width": null
          }
        },
        "5ffe847ecb3a422fac408544069d1b2f": {
          "model_module": "@jupyter-widgets/base",
          "model_name": "LayoutModel",
          "model_module_version": "1.2.0",
          "state": {
            "_model_module": "@jupyter-widgets/base",
            "_model_module_version": "1.2.0",
            "_model_name": "LayoutModel",
            "_view_count": null,
            "_view_module": "@jupyter-widgets/base",
            "_view_module_version": "1.2.0",
            "_view_name": "LayoutView",
            "align_content": null,
            "align_items": null,
            "align_self": null,
            "border": null,
            "bottom": null,
            "display": null,
            "flex": null,
            "flex_flow": null,
            "grid_area": null,
            "grid_auto_columns": null,
            "grid_auto_flow": null,
            "grid_auto_rows": null,
            "grid_column": null,
            "grid_gap": null,
            "grid_row": null,
            "grid_template_areas": null,
            "grid_template_columns": null,
            "grid_template_rows": null,
            "height": null,
            "justify_content": null,
            "justify_items": null,
            "left": null,
            "margin": null,
            "max_height": null,
            "max_width": null,
            "min_height": null,
            "min_width": null,
            "object_fit": null,
            "object_position": null,
            "order": null,
            "overflow": null,
            "overflow_x": null,
            "overflow_y": null,
            "padding": null,
            "right": null,
            "top": null,
            "visibility": null,
            "width": null
          }
        },
        "2e3c115bc75b4766a44b8ef61d8fead1": {
          "model_module": "@jupyter-widgets/controls",
          "model_name": "DescriptionStyleModel",
          "model_module_version": "1.5.0",
          "state": {
            "_model_module": "@jupyter-widgets/controls",
            "_model_module_version": "1.5.0",
            "_model_name": "DescriptionStyleModel",
            "_view_count": null,
            "_view_module": "@jupyter-widgets/base",
            "_view_module_version": "1.2.0",
            "_view_name": "StyleView",
            "description_width": ""
          }
        },
        "93eb987f7e914d0dab6bfcb6b2513ce6": {
          "model_module": "@jupyter-widgets/base",
          "model_name": "LayoutModel",
          "model_module_version": "1.2.0",
          "state": {
            "_model_module": "@jupyter-widgets/base",
            "_model_module_version": "1.2.0",
            "_model_name": "LayoutModel",
            "_view_count": null,
            "_view_module": "@jupyter-widgets/base",
            "_view_module_version": "1.2.0",
            "_view_name": "LayoutView",
            "align_content": null,
            "align_items": null,
            "align_self": null,
            "border": null,
            "bottom": null,
            "display": null,
            "flex": null,
            "flex_flow": null,
            "grid_area": null,
            "grid_auto_columns": null,
            "grid_auto_flow": null,
            "grid_auto_rows": null,
            "grid_column": null,
            "grid_gap": null,
            "grid_row": null,
            "grid_template_areas": null,
            "grid_template_columns": null,
            "grid_template_rows": null,
            "height": null,
            "justify_content": null,
            "justify_items": null,
            "left": null,
            "margin": null,
            "max_height": null,
            "max_width": null,
            "min_height": null,
            "min_width": null,
            "object_fit": null,
            "object_position": null,
            "order": null,
            "overflow": null,
            "overflow_x": null,
            "overflow_y": null,
            "padding": null,
            "right": null,
            "top": null,
            "visibility": null,
            "width": null
          }
        },
        "86185c3635424ba8bf157d98addd3854": {
          "model_module": "@jupyter-widgets/controls",
          "model_name": "ProgressStyleModel",
          "model_module_version": "1.5.0",
          "state": {
            "_model_module": "@jupyter-widgets/controls",
            "_model_module_version": "1.5.0",
            "_model_name": "ProgressStyleModel",
            "_view_count": null,
            "_view_module": "@jupyter-widgets/base",
            "_view_module_version": "1.2.0",
            "_view_name": "StyleView",
            "bar_color": null,
            "description_width": ""
          }
        },
        "68e6efb01fbd426a9c16316c5993aae1": {
          "model_module": "@jupyter-widgets/base",
          "model_name": "LayoutModel",
          "model_module_version": "1.2.0",
          "state": {
            "_model_module": "@jupyter-widgets/base",
            "_model_module_version": "1.2.0",
            "_model_name": "LayoutModel",
            "_view_count": null,
            "_view_module": "@jupyter-widgets/base",
            "_view_module_version": "1.2.0",
            "_view_name": "LayoutView",
            "align_content": null,
            "align_items": null,
            "align_self": null,
            "border": null,
            "bottom": null,
            "display": null,
            "flex": null,
            "flex_flow": null,
            "grid_area": null,
            "grid_auto_columns": null,
            "grid_auto_flow": null,
            "grid_auto_rows": null,
            "grid_column": null,
            "grid_gap": null,
            "grid_row": null,
            "grid_template_areas": null,
            "grid_template_columns": null,
            "grid_template_rows": null,
            "height": null,
            "justify_content": null,
            "justify_items": null,
            "left": null,
            "margin": null,
            "max_height": null,
            "max_width": null,
            "min_height": null,
            "min_width": null,
            "object_fit": null,
            "object_position": null,
            "order": null,
            "overflow": null,
            "overflow_x": null,
            "overflow_y": null,
            "padding": null,
            "right": null,
            "top": null,
            "visibility": null,
            "width": null
          }
        },
        "285978cbcbaa4a82b1b4b7724601c802": {
          "model_module": "@jupyter-widgets/controls",
          "model_name": "DescriptionStyleModel",
          "model_module_version": "1.5.0",
          "state": {
            "_model_module": "@jupyter-widgets/controls",
            "_model_module_version": "1.5.0",
            "_model_name": "DescriptionStyleModel",
            "_view_count": null,
            "_view_module": "@jupyter-widgets/base",
            "_view_module_version": "1.2.0",
            "_view_name": "StyleView",
            "description_width": ""
          }
        }
      }
    }
  },
  "cells": [
    {
      "cell_type": "markdown",
      "metadata": {
        "id": "view-in-github",
        "colab_type": "text"
      },
      "source": [
        "<a href=\"https://colab.research.google.com/github/GENI-Technology/GENITechLearningTogether/blob/main/Weight_Transfer_within_Identical_Transformer_Models_V001.ipynb\" target=\"_parent\"><img src=\"https://colab.research.google.com/assets/colab-badge.svg\" alt=\"Open In Colab\"/></a>"
      ]
    },
    {
      "cell_type": "markdown",
      "source": [
        "<img src=\"https://geni.asia/wp-content/uploads/2021/12/Full_logo_Color.png\" alt=\"GENI Technology (Myanmar)\" width=\"150\">\n"
      ],
      "metadata": {
        "id": "WgPq2T4ZoG-R"
      }
    },
    {
      "cell_type": "markdown",
      "source": [
        "\n",
        "\n",
        "**Acknowledgments**\n",
        "\n",
        "This tutorial was created with the help of several valuable resources and collaborations.\n",
        "\n",
        "* **Large Language Models:** We would like to acknowledge the valuable assistance of **Google Gemini** and **ChatGPT** for their capabilities in language generation and information retrieval. These large language models were instrumental in providing insights and generating draft text, which were subsequently refined and edited for clarity and accuracy.\n",
        "* **Research Team:** We are grateful to [GENI Technology research team](https://geni.asia/research-internship-batch-1/) for their contributions, guidance, and support throughout the development of this tutorial. Their expertise and collaboration were essential for ensuring the quality and comprehensiveness of this work.\n",
        "\n",
        "We hope this tutorial proves to be informative and helpful. Please feel free to reach out if you have any questions or feedback.\n",
        "\n"
      ],
      "metadata": {
        "id": "IMo5XMQLelZy"
      }
    },
    {
      "cell_type": "markdown",
      "source": [
        "## Introduction\n",
        "\n",
        "Have you ever found yourself in a situation where you need to adapt an existing **source model** (i.e., pretrained transformer model) for a new task, but its vocabulary does not quite match the available data? Perhaps you need to switch tokenizers to better handle the specific domain of your new task.\n",
        "\n",
        "This can be especially tricky when the source model's **embedding layer**, which maps words to numerical representations, relies on the original tokenizer's vocabulary. Changing the tokenizer means the word meanings encoded in the embedding layer no longer align with the new vocabulary.\n",
        "\n",
        "This guide will walk you through a specific solution for tackling this challenge. We will explore how to **transfer weights** from a **destination model** that uses the desired tokenizer to your source model. This approach involves copying the **embedding layer weights** and potentially some **encoder layer weights** from the destination model to your source model.\n",
        "\n",
        "By the end of this tutorial, you will be equipped to:\n",
        "\n",
        "* Understand the rationale behind weight transfer in this scenario.\n",
        "* Implement the process of transferring embedding and encoder layer weights from the destination to the source model.\n",
        "* Fine-tune the source model to adapt it to your specific task and dataset (**Coming Soon!**).\n",
        "\n",
        "This approach allows you to leverage the knowledge and understanding of the destination model's trained weights while adapting your source model to work effectively with your new tokenizer and task data.\n"
      ],
      "metadata": {
        "id": "qD0kM7O5BzLy"
      }
    },
    {
      "cell_type": "markdown",
      "source": [
        "## Why This Approach Works\n",
        "\n",
        "The approach of transferring weights from a destination model to a source model with a mismatched tokenizer works due to two key factors: **vocabulary alignment** and **leveraging pre-trained knowledge**.\n",
        "\n",
        "**1. Vocabulary Alignment**\n",
        "\n",
        "When you replace the source model's tokenizer with the destination model's tokenizer, their vocabularies become **aligned**. This means that the words and their corresponding numerical representations (embeddings) are consistent between the two models.\n",
        "\n",
        "By transferring the **embedding layer weights** from the destination model to the source model, you directly copy the pre-trained word representations that are already aligned with the new vocabulary. This ensures that the source model understands the meanings of words within the new vocabulary without needing to retrain the entire embedding layer from scratch.\n",
        "\n",
        "**2. Leveraging Pre-trained Knowledge**\n",
        "\n",
        "Beyond just vocabulary alignment, transferring **encoder layer weights**, particularly from earlier layers, can be beneficial. The **encoder** is responsible for capturing relationships between words and extracting meaningful features from the sequence of embeddings.\n",
        "\n",
        "By transferring some encoder layer weights from the destination model, you potentially leverage the knowledge it has learned about these features in the context of the new vocabulary. This can:\n",
        "\n",
        "* **Improve feature understanding** The transferred weights might encode better ways to extract meaningful features from the aligned sequences of embeddings.\n",
        "* **Accelerate training** The transferred weights can provide the source model with a good starting point for training, potentially allowing it to reach a strong performance level faster compared to training from scratch.\n",
        "\n",
        "**Important to Note:**\n",
        "\n",
        "* **Fine-tuning is crucial:** Even after transferring weights, **fine-tuning** the source model on your specific task and dataset is essential. This allows the model to adapt to any nuances specific to your data that might not have been perfectly captured by the destination model.\n",
        "* **Partial transfer might be optimal:** Not all encoder layers need to be transferred. It's worth experimenting to see if focusing on earlier layers that typically capture more general language features is beneficial.\n",
        "\n",
        "``\n",
        "Overall, transferring weights from a destination model with a matching tokenizer to a source model allows you to efficiently adapt the source model to a new task while leveraging the pre-trained knowledge gained by the destination model.\n",
        "``"
      ],
      "metadata": {
        "id": "oRAoyOqID2OM"
      }
    },
    {
      "cell_type": "markdown",
      "source": [
        "## Setting Up the Environment in Google Colab\n",
        "\n",
        "This section guides you through setting up the necessary libraries for this tutorial within a Google Colab environment.\n",
        "\n",
        "**Google Colab:** Google Colab is a free platform that allows you to run Python code in your web browser, eliminating the need for local installations. It provides access to powerful hardware resources like GPUs, making it ideal for computationally intensive tasks like deep learning.\n",
        "\n",
        "**Steps:**\n",
        "\n",
        "1. **Open Google Colab:** Visit [https://research.google.com/colaboratory/](https://research.google.com/colaboratory/) in your web browser.\n",
        "2. **Create a New Notebook:** Click on \"File\" -> \"New Notebook\" to create a new notebook where we will execute the code.\n",
        "\n",
        "**Installing Required Libraries:**\n",
        "\n",
        "The following code snippet installs the necessary libraries for this tutorial:\n",
        "\n",
        "```python\n",
        "!pip install -q -U bitsandbytes transformers peft accelerate datasets trl einops\n",
        "```\n",
        "\n",
        "**Explanation:**\n",
        "\n",
        "* `!pip`: This symbol indicates a system command executed within the Colab environment.\n",
        "* `install`: This keyword specifies the action to be performed, which is installing packages.\n",
        "* `-q`: This flag suppresses output from the installation process, keeping the notebook cleaner.\n",
        "* `-U`: This flag ensures that the latest version of each library is installed, if available.\n",
        "* `bitsandbytes`, `transformers`, `peft`, `accelerate`, `datasets`, `trl`, `einops`: These are the names of the libraries we need to install.\n",
        "\n",
        "**Running the Code:**\n",
        "\n",
        "1. Click inside the first code cell (the box containing the above code).\n",
        "2. Press \"Shift\" + \"Enter\" or click the \"Run\" button (play symbol) at the top of the cell to execute the code.\n",
        "\n",
        "**Verification:**\n",
        "\n",
        "Once the code execution is complete, you should see no errors or warnings in the output below the code cell. This indicates that the libraries have been successfully installed in your Colab environment.\n",
        "\n",
        "**Additional Notes:**\n",
        "\n",
        "* You may need to restart your Colab runtime occasionally, especially after installing new libraries. This ensures that the changes are reflected in the environment.\n",
        "* Google Colab has resource limitations for free usage. If you encounter any resource issues, you might need to upgrade to a paid tier or adjust your code for efficiency."
      ],
      "metadata": {
        "id": "MLYDWh7PF2Vb"
      }
    },
    {
      "cell_type": "code",
      "source": [
        "!pip install -q -U bitsandbytes\n",
        "!pip install -q -U transformers\n",
        "!pip install -q -U peft\n",
        "!pip install -q -U accelerate\n",
        "!pip install -q -U datasets\n",
        "!pip install -q -U trl\n",
        "!pip install -q -U einops"
      ],
      "metadata": {
        "colab": {
          "base_uri": "https://localhost:8080/"
        },
        "id": "6W_qmdopcpDq",
        "outputId": "dd5ef956-333c-47bf-93c2-64337c120329"
      },
      "execution_count": 1,
      "outputs": [
        {
          "output_type": "stream",
          "name": "stdout",
          "text": [
            "\u001b[2K     \u001b[90m━━━━━━━━━━━━━━━━━━━━━━━━━━━━━━━━━━━━━━━━\u001b[0m \u001b[32m105.0/105.0 MB\u001b[0m \u001b[31m10.3 MB/s\u001b[0m eta \u001b[36m0:00:00\u001b[0m\n",
            "\u001b[2K     \u001b[90m━━━━━━━━━━━━━━━━━━━━━━━━━━━━━━━━━━━━━━━━\u001b[0m \u001b[32m8.5/8.5 MB\u001b[0m \u001b[31m16.8 MB/s\u001b[0m eta \u001b[36m0:00:00\u001b[0m\n",
            "\u001b[2K     \u001b[90m━━━━━━━━━━━━━━━━━━━━━━━━━━━━━━━━━━━━━━━━\u001b[0m \u001b[32m190.9/190.9 kB\u001b[0m \u001b[31m4.1 MB/s\u001b[0m eta \u001b[36m0:00:00\u001b[0m\n",
            "\u001b[2K     \u001b[90m━━━━━━━━━━━━━━━━━━━━━━━━━━━━━━━━━━━━━━━━\u001b[0m \u001b[32m280.0/280.0 kB\u001b[0m \u001b[31m15.1 MB/s\u001b[0m eta \u001b[36m0:00:00\u001b[0m\n",
            "\u001b[2K     \u001b[90m━━━━━━━━━━━━━━━━━━━━━━━━━━━━━━━━━━━━━━━━\u001b[0m \u001b[32m536.7/536.7 kB\u001b[0m \u001b[31m8.1 MB/s\u001b[0m eta \u001b[36m0:00:00\u001b[0m\n",
            "\u001b[2K     \u001b[90m━━━━━━━━━━━━━━━━━━━━━━━━━━━━━━━━━━━━━━━━\u001b[0m \u001b[32m116.3/116.3 kB\u001b[0m \u001b[31m15.1 MB/s\u001b[0m eta \u001b[36m0:00:00\u001b[0m\n",
            "\u001b[2K     \u001b[90m━━━━━━━━━━━━━━━━━━━━━━━━━━━━━━━━━━━━━━━━\u001b[0m \u001b[32m134.8/134.8 kB\u001b[0m \u001b[31m16.5 MB/s\u001b[0m eta \u001b[36m0:00:00\u001b[0m\n",
            "\u001b[2K     \u001b[90m━━━━━━━━━━━━━━━━━━━━━━━━━━━━━━━━━━━━━━━━\u001b[0m \u001b[32m155.3/155.3 kB\u001b[0m \u001b[31m3.4 MB/s\u001b[0m eta \u001b[36m0:00:00\u001b[0m\n",
            "\u001b[2K     \u001b[90m━━━━━━━━━━━━━━━━━━━━━━━━━━━━━━━━━━━━━━━━\u001b[0m \u001b[32m79.8/79.8 kB\u001b[0m \u001b[31m7.7 MB/s\u001b[0m eta \u001b[36m0:00:00\u001b[0m\n",
            "\u001b[2K     \u001b[90m━━━━━━━━━━━━━━━━━━━━━━━━━━━━━━━━━━━━━━━━\u001b[0m \u001b[32m44.6/44.6 kB\u001b[0m \u001b[31m1.5 MB/s\u001b[0m eta \u001b[36m0:00:00\u001b[0m\n",
            "\u001b[?25h"
          ]
        }
      ]
    },
    {
      "cell_type": "markdown",
      "source": [
        "**Core NLP Libraries**\n",
        "\n",
        "* **transformers (from Hugging Face):** This is a powerhouse library for NLP. It provides:\n",
        "    * **Pre-trained Models:** Vast collection of state-of-the-art Transformer-based models for tasks like text classification, translation, question answering, etc.  Think of them as 'brains' already trained on massive amounts of data.\n",
        "    * **Tokenizers:**  Tools to break sentences into wordpieces that the models understand.\n",
        "    * **Pipelines:** Easy-to-use components for common NLP tasks.\n",
        "\n",
        "* **datasets (from Hugging Face):**  A centralized platform for accessing and using a huge range of publicly available datasets for NLP. You can load many common datasets for training or evaluation purposes with minimal effort.\n",
        "\n",
        "**Specialized for Transfer Learning & Efficiency**\n",
        "\n",
        "* **peft:** Facilitates fine-tuning of pre-trained models with specialized techniques and flexibility. Crucial for effectively adapting models to your specific downstream tasks.\n",
        "\n",
        "* **trl:** Another transfer learning library. While less well-known, it might have specific utilities for certain weight transfer or knowledge distillation approaches.\n",
        "\n",
        "* **accelerate (from Hugging Face):** Optimizes training across different hardware (CPUs, GPUs, TPUs) and simplifies distributed training (using multiple computing units simultaneously for faster training).\n",
        "\n",
        "* **bitsandbytes:** Helps with quantization of models. This reduces model size and computational cost, making models fit into resource-limited environments or run more efficiently.\n",
        "\n",
        "* **einops:** Provides a flexible and intuitive way to manipulate and reshape tensors (the fundamental data structures within NLP models). This can streamline code for complex tensor operations.\n",
        "\n",
        "**How They Work Together**\n",
        "\n",
        "In this tutorial setup, these libraries work in conjunction to:\n",
        "\n",
        "1. Load pre-trained models (`transformers`) and their associated tokenizers, potentially from a destination model that aligns with your new task.\n",
        "2. Extract relevant weights from the destination model related to embeddings or encoder layers.\n",
        "3. Transfer and incorporate these weights into your source model.\n",
        "4. Leverage the other libraries to optimize (`accelerate`, `bitsandbytes`) and fine-tune (`peft`) your enhanced source model on your specific downstream task while using relevant datasets (`datasets`).\n"
      ],
      "metadata": {
        "id": "b8OoR7RhGxGb"
      }
    },
    {
      "cell_type": "markdown",
      "source": [
        "## Importing Essential Libraries for NLP and Transfer Learning\n",
        "\n",
        "This section dives into the various libraries imported for this tutorial and their roles in enabling the transfer learning approach:\n",
        "\n",
        "**From Transformers:**\n",
        "\n",
        "* **AutoModelForCausalLM:** Loads any pre-trained causal language model (like GPT-2) from the Hugging Face model hub based on a model identifier. In our case, it will be used for the source model.\n",
        "* **AutoTokenizer:** Automatically loads the tokenizer associated with the chosen model (from AutoModelForCausalLM) for handling text pre-processing and tokenization.\n",
        "* **BitsAndBytesConfig:** Configuration for model quantization using BitsAndBytes library (potentially used for efficiency improvements).\n",
        "* **HfArgumentParser:** Helps parse command-line arguments for fine-tuning, making hyperparameter tuning and experiment management easier.\n",
        "* **TrainingArguments:** Defines training arguments like learning rate, epochs, etc., for fine-tuning the model.\n",
        "* **pipeline:** Provides pre-trained pipelines for common NLP tasks like text generation, summarization, and translation.\n",
        "* **logging:** Manages logging messages during training or inference.\n",
        "* **TextStreamer:** (Optional) Enables text streaming for large datasets, potentially improving memory efficiency during training.\n",
        "\n",
        "**From Peft:**\n",
        "\n",
        "* **LoraConfig:** Configuration for training with Low-Rank AdaGrad (LORA) for memory optimization.\n",
        "* **PeftModel:** Core class used to create and manage Peft models, enabling efficient fine-tuning.\n",
        "* **prepare_model_for_kbit_training:** Prepares the model for training with limited precision (e.g., 8-bit) using BitsAndBytes.\n",
        "* **get_peft_model:** Retrieves a Peft model for fine-tuning.\n",
        "\n",
        "**Standard Libraries:**\n",
        "\n",
        "* **os:** Provides operating system functionalities like path manipulation.\n",
        "* **torch:** The core deep learning library used for building and training models.\n",
        "* **platform:** Provides information about the system platform and environment.\n",
        "* **warnings:** Used to handle and manage warnings during code execution.\n",
        "\n",
        "**From Datasets:**\n",
        "\n",
        "* **load_dataset:** Loads datasets from the Hugging Face Hub or local files.\n",
        "* **Dataset, DatasetDict:** Classes for representing and managing datasets.\n",
        "\n",
        "**From TRL:**\n",
        "\n",
        "* **SFTTrainer:** A trainer class from the TRL library (potentially used for specific transfer learning approaches).\n",
        "\n",
        "**From Hugging Face Hub:**\n",
        "\n",
        "* **notebook_login:** Allows authentication with the Hugging Face Hub for potential model upload or download (optional).\n",
        "\n",
        "**Additional Libraries:**\n",
        "\n",
        "* **pandas (pd):** Used for data manipulation and analysis (potentially for data pre-processing or evaluation).\n",
        "* **sklearn.model_selection:** Provides functions for splitting data into training and validation sets.\n",
        "\n",
        "**Key Points:**\n",
        "\n",
        "* We leverage libraries from Hugging Face (Transformers and Datasets) for core NLP functionalities like model loading, tokenization, and dataset access.\n",
        "* Peft and TRL libraries offer additional functionalities related to efficient fine-tuning and transfer learning techniques.\n",
        "* Standard libraries like `os`, `torch`, and `platform` provide essential functionalities for system interaction and deep learning operations.\n",
        "* `pandas` and `sklearn` might be used for data manipulation and processing tasks."
      ],
      "metadata": {
        "id": "2zb_VxuxJHrO"
      }
    },
    {
      "cell_type": "code",
      "source": [
        "from transformers import AutoModelForCausalLM, AutoTokenizer, BitsAndBytesConfig, HfArgumentParser, TrainingArguments, pipeline, logging, TextStreamer\n",
        "from peft import LoraConfig, PeftModel, prepare_model_for_kbit_training, get_peft_model\n",
        "import os,torch, platform, warnings\n",
        "from datasets import load_dataset, Dataset, DatasetDict\n",
        "from trl import SFTTrainer\n",
        "from huggingface_hub import notebook_login\n",
        "import pandas as pd\n",
        "from sklearn.model_selection import train_test_split"
      ],
      "metadata": {
        "id": "MtrG1D2JYHYE"
      },
      "execution_count": 1,
      "outputs": []
    },
    {
      "cell_type": "markdown",
      "source": [
        "## Checking Your System Environment\n",
        "\n",
        "Before diving into the tutorial, it's essential to check your system's specifications to ensure it can handle the computational demands of working with deep learning models. This code snippet helps you gather this information:\n",
        "\n",
        "```python\n",
        "import torch\n",
        "import platform\n",
        "\n",
        "def print_system_specs():\n",
        "  \"\"\"\n",
        "  Prints information about your system's hardware and software environment.\n",
        "  \"\"\"\n",
        "  # Check if CUDA is available\n",
        "  is_cuda_available = torch.cuda.is_available()\n",
        "  print(\"CUDA Available:\", is_cuda_available)\n",
        "\n",
        "  # Get the number of available CUDA devices\n",
        "  num_cuda_devices = torch.cuda.device_count()\n",
        "  print(\"Number of CUDA devices:\", num_cuda_devices)\n",
        "\n",
        "  if is_cuda_available:\n",
        "    for i in range(num_cuda_devices):\n",
        "      # Get CUDA device properties\n",
        "      device = torch.device('cuda', i)\n",
        "      print(f\"--- CUDA Device {i} ---\")\n",
        "      print(\"Name:\", torch.cuda.get_device_name(i))\n",
        "      print(\"Compute Capability:\", torch.cuda.get_device_capability(i))\n",
        "      print(\"Total Memory:\", torch.cuda.get_device_properties(i).total_memory, \"bytes\")\n",
        "\n",
        "  # Get CPU information\n",
        "  print(\"--- CPU Information ---\")\n",
        "  print(\"Processor:\", platform.processor())\n",
        "  print(\"System:\", platform.system(), platform.release())\n",
        "  print(\"Python Version:\", platform.python_version())\n",
        "\n",
        "print_system_specs()\n",
        "```\n",
        "\n",
        "**Explanation:**\n",
        "\n",
        "1. **Importing Libraries:**\n",
        "    * `torch`: This is the primary deep learning library used in this tutorial.\n",
        "    * `platform`: This standard Python library provides information about the system's platform and environment.\n",
        "\n",
        "2. **`print_system_specs()` function:**\n",
        "    * This function gathers and prints system information.\n",
        "    * **CUDA Check:** It checks if CUDA, a parallel computing platform for GPUs, is available using `torch.cuda.is_available()`.\n",
        "    * **Number of CUDA devices:** It retrieves the number of available CUDA devices with `torch.cuda.device_count()`.\n",
        "    * **CUDA device details (if available):** It iterates through each CUDA device, getting its name, compute capability, and total memory using `torch.cuda` functions.\n",
        "    * **CPU information:** It prints information about the CPU processor, operating system, and Python version using `platform` module functions.\n",
        "\n",
        "3. **Calling the Function:**\n",
        "    * The last line (`print_system_specs()`) executes the function, printing the gathered information to the console.\n",
        "\n",
        "**Running the Code:**\n",
        "\n",
        "1. Copy and paste the code into your Python environment or notebook.\n",
        "2. Run the code. It will display details like:\n",
        "    * Whether CUDA is available.\n",
        "    * The number of available CUDA devices (if any).\n",
        "    * Details about each CUDA device (name, compute capability, memory).\n",
        "    * CPU information (processor, operating system, Python version).\n",
        "\n",
        "**Interpretation:**\n",
        "\n",
        "* **CUDA Availability:** If working with GPUs is beneficial for your task, having CUDA available is crucial. This allows leveraging the parallel processing power of GPUs for faster training and inference.\n",
        "* **Number of CUDA Devices:** If you have multiple GPUs, you might be able to utilize them for distributed training, further accelerating the process.\n",
        "* **CUDA Device Details:** Knowing the compute capability and memory of your GPU(s) helps you understand their processing power and limitations.\n",
        "* **CPU Information:** While GPUs are often preferred for deep learning, understanding your CPU specifications is still valuable, as some operations might still rely on it.\n",
        "\n",
        "This information can help you assess the suitability of your system for running the code effectively and potentially guide any adjustments needed for optimal performance."
      ],
      "metadata": {
        "id": "n5yE-I6zH7Nb"
      }
    },
    {
      "cell_type": "code",
      "source": [
        "def print_system_specs():\n",
        "    # Check if CUDA is available\n",
        "    is_cuda_available = torch.cuda.is_available()\n",
        "    print(\"CUDA Available:\", is_cuda_available)\n",
        "# Get the number of available CUDA devices\n",
        "    num_cuda_devices = torch.cuda.device_count()\n",
        "    print(\"Number of CUDA devices:\", num_cuda_devices)\n",
        "    if is_cuda_available:\n",
        "        for i in range(num_cuda_devices):\n",
        "            # Get CUDA device properties\n",
        "            device = torch.device('cuda', i)\n",
        "            print(f\"--- CUDA Device {i} ---\")\n",
        "            print(\"Name:\", torch.cuda.get_device_name(i))\n",
        "            print(\"Compute Capability:\", torch.cuda.get_device_capability(i))\n",
        "            print(\"Total Memory:\", torch.cuda.get_device_properties(i).total_memory, \"bytes\")\n",
        "    # Get CPU information\n",
        "    print(\"--- CPU Information ---\")\n",
        "    print(\"Processor:\", platform.processor())\n",
        "    print(\"System:\", platform.system(), platform.release())\n",
        "    print(\"Python Version:\", platform.python_version())\n",
        "print_system_specs()"
      ],
      "metadata": {
        "colab": {
          "base_uri": "https://localhost:8080/"
        },
        "id": "uWETUohcYFGK",
        "outputId": "3a6a055b-d838-4a49-fb45-7958548f3b2d"
      },
      "execution_count": 2,
      "outputs": [
        {
          "output_type": "stream",
          "name": "stdout",
          "text": [
            "CUDA Available: True\n",
            "Number of CUDA devices: 1\n",
            "--- CUDA Device 0 ---\n",
            "Name: Tesla T4\n",
            "Compute Capability: (7, 5)\n",
            "Total Memory: 15835660288 bytes\n",
            "--- CPU Information ---\n",
            "Processor: x86_64\n",
            "System: Linux 6.1.58+\n",
            "Python Version: 3.10.12\n"
          ]
        }
      ]
    },
    {
      "cell_type": "markdown",
      "source": [
        "## Loading Pretrained Tokenizer for Weight Transfer Transformer Tutorial\n",
        "\n",
        "This section focuses on loading a pre-trained tokenizer using the `AutoTokenizer` function from the `transformers` library. Here's a breakdown of the code:\n",
        "\n",
        "1. **`model_name`:** This variable stores the name of the pre-trained model you intend to use for weight transfer, but it's not directly used in this code snippet.\n",
        "2. **`tokenizer_name`:** This variable holds the name of the specific tokenizer that corresponds to the pre-trained model you're interested in.\n",
        "3. **`tokenizer = AutoTokenizer.from_pretrained(tokenizer_name)`:** This line instantiates the `AutoTokenizer` class and loads the tokenizer identified by `tokenizer_name`. This tokenizer will be used to prepare your text data (e.g., tokenizing words and sentences) for compatibility with the pre-trained model you plan to utilize in the weight transfer process."
      ],
      "metadata": {
        "id": "V6IOU4G4bniS"
      }
    },
    {
      "cell_type": "markdown",
      "source": [
        "## Utilizing Mistral-7B-Instruct-v0.2 with SeaLLM-7B-v2's Tokenizer\n",
        "\n",
        "This section explores the chosen models for the transfer learning approach and the rationale behind using SeaLLM-7B-v2's tokenizer with Mistral-7B-Instruct-v0.2:\n",
        "\n",
        "**Chosen Models:**\n",
        "\n",
        "* **Source Model:**\n",
        "    * **Name:** Mistral-7B-Instruct-v0.2 ([https://huggingface.co/mistralai/Mistral-7B-Instruct-v0.2](https://huggingface.co/mistralai/Mistral-7B-Instruct-v0.2))\n",
        "    * **Type:** Encoder only model\n",
        "    * **Language:** English\n",
        "    * **Strengths:** Potential for generating different creative text formats, like poems, code, scripts, musical pieces, email, letters, etc.\n",
        "\n",
        "* **Destination Model:**\n",
        "    * **Name:** SeaLLM-7B-v2 ([https://huggingface.co/models?other=LLM](https://huggingface.co/SeaLLMs/SeaLLM-7B-v2))\n",
        "    * **Type:** Encoder only model\n",
        "    * **Languages:** Vietnamese, Indonesian, Thai, Malay, Khmer, Lao, Tagalog, Burmese\n",
        "    * **Strengths:** Powerful language understanding and generation capabilities, particularly for Southeast Asian languages.\n",
        "\n",
        "**Rationale for Tokenizer Replacement:**\n",
        "\n",
        "While both models are large language models (LLMs), they have key differences:\n",
        "\n",
        "* **Language Focus:** Mistral-7B-Instruct-v0.2 focuses on English, while SeaLLM-7B-v2 supports eight Southeast Asian languages.\n",
        "* **Task-Specific Fine-tuning:** Mistral-7B-Instruct-v0.2 is fine-tuned for instruction-based tasks, which might influence its vocabulary and tokenization scheme.\n",
        "\n",
        "**The key reason for using SeaLLM-7B-v2's tokenizer with Mistral-7B-Instruct-v0.2 is to handle potential vocabulary and tokenization misalignments.**\n",
        "\n",
        "* **Scenario:** If you plan to use Mistral-7B-Instruct-v0.2 for tasks requiring vocabulary specific to Southeast Asian languages, its original tokenizer might not be equipped for this new domain.\n",
        "* **Solution:** By using SeaLLM-7B-v2's tokenizer, you leverage its understanding of the relevant vocabulary and tokenization for these languages, potentially enhancing the performance of Mistral-7B-Instruct-v0.2 when applied to such tasks.\n",
        "\n",
        "**Code Snippet:**\n",
        "\n",
        "```python\n",
        "model_name = \"mistralai/Mistral-7B-Instruct-v0.2\"\n",
        "tokenizer_name = \"SeaLLMs/SeaLLM-7B-v2\"\n",
        "\n",
        "```\n",
        "\n",
        "**Important Note:**\n",
        "\n",
        "While this approach can be beneficial in specific scenarios, it's crucial to carefully evaluate the potential benefits and drawbacks depending on your specific task and desired outcomes. Misalignment between the model's architecture and the borrowed tokenizer can lead to unintended consequences. It's recommended to experiment and compare the performance with and without this approach for your specific use case.\n",
        "\n",
        "**References:**\n",
        "\n",
        "* Mistral-7B-Instruct-v0.2 Model Card: [https://huggingface.co/mistralai/Mistral-7B-Instruct-v0.2](https://huggingface.co/mistralai/Mistral-7B-Instruct-v0.2)\n",
        "* SeaLLM-7B-v2 Model Card: [https://huggingface.co/SeaLLMs/SeaLLM-7B-v2](https://huggingface.co/models?other=LLM)\n"
      ],
      "metadata": {
        "id": "sx_5cHjFMVvZ"
      }
    },
    {
      "cell_type": "code",
      "source": [
        "# Define Model and Tokenizer\n",
        "model_name = \"mistralai/Mistral-7B-Instruct-v0.2\"\n",
        "tokenizer_name = \"SeaLLMs/SeaLLM-7B-v2\""
      ],
      "metadata": {
        "id": "kKrP-F0ntG4w"
      },
      "execution_count": 3,
      "outputs": []
    },
    {
      "cell_type": "markdown",
      "source": [
        "## Using `huggingface-cli login` for Secure Access and Management\n",
        "\n",
        "While you won't need this command in the specific scenario of using SeaLLM-7B-v2, understanding `huggingface-cli login` is valuable for managing private models on the Hugging Face Hub. Here's an explanation:\n",
        "\n",
        "**What is `huggingface-cli login`?**\n",
        "\n",
        "The `huggingface-cli login` command is a tool provided by the Hugging Face Hub for securely logging in to your Hugging Face account from the command line. This login allows you to:\n",
        "\n",
        "* **Manage private models:** Access, upload, and manage private models stored on your Hugging Face Hub account. Public models don't require login for usage.\n",
        "* **Track and manage experiments:** Keep track of your experiments and associated versions uploaded to the Hub.\n",
        "* **Contribute to the Hub community:** Collaborate on projects, share models, and access models shared by other logged-in users.\n",
        "\n",
        "**When to use `huggingface-cli login`:**\n",
        "\n",
        "* When you want to upload your own trained models to the Hugging Face Hub for private storage or sharing with collaborators.\n",
        "* When you want to access and manage models uploaded by other users that have shared access privileges with you.\n",
        "\n",
        "**How to use `huggingface-cli login`:**\n",
        "\n",
        "1. **Install the `transformers` library:** If you haven't already, install the `transformers` library, which includes the `huggingface-cli` tool:\n",
        "\n",
        "```bash\n",
        "pip install transformers\n",
        "```\n",
        "\n",
        "2. **Run the command:**\n",
        "\n",
        "```bash\n",
        "huggingface-cli login\n",
        "```\n",
        "\n",
        "3. **Follow the instructions:** You'll be prompted to enter your Hugging Face Hub username and password.\n",
        "\n",
        "**Security:**\n",
        "\n",
        "* The `huggingface-cli login` command uses secure authentication methods to protect your credentials. It avoids storing your password directly on your machine.\n",
        "* It's crucial to keep your username and password confidential to maintain the security of your models and avoid unauthorized access.\n",
        "\n",
        "**Additional Notes:**\n",
        "\n",
        "* You can manage your login tokens and access settings directly from the Hugging Face Hub user interface ([https://huggingface.co/settings/tokens](https://huggingface.co/settings/tokens)).\n",
        "* Refer to the official documentation for more details and advanced usage: [https://huggingface.co/docs/huggingface_hub/en/quick-start](https://huggingface.co/docs/huggingface_hub/en/quick-start)\n",
        "\n",
        "While you won't need this command for the specific models used in your tutorial, understanding its purpose and usage might be valuable for future projects involving private models or collaboration on the Hugging Face Hub."
      ],
      "metadata": {
        "id": "c4exaSkOOe05"
      }
    },
    {
      "cell_type": "code",
      "source": [
        "!huggingface-cli login"
      ],
      "metadata": {
        "id": "ufbRSBwJOcJh",
        "colab": {
          "base_uri": "https://localhost:8080/"
        },
        "outputId": "5f0bccec-286c-4127-ff49-a78c5837abea"
      },
      "execution_count": 6,
      "outputs": [
        {
          "output_type": "stream",
          "name": "stdout",
          "text": [
            "\n",
            "    _|    _|  _|    _|    _|_|_|    _|_|_|  _|_|_|  _|      _|    _|_|_|      _|_|_|_|    _|_|      _|_|_|  _|_|_|_|\n",
            "    _|    _|  _|    _|  _|        _|          _|    _|_|    _|  _|            _|        _|    _|  _|        _|\n",
            "    _|_|_|_|  _|    _|  _|  _|_|  _|  _|_|    _|    _|  _|  _|  _|  _|_|      _|_|_|    _|_|_|_|  _|        _|_|_|\n",
            "    _|    _|  _|    _|  _|    _|  _|    _|    _|    _|    _|_|  _|    _|      _|        _|    _|  _|        _|\n",
            "    _|    _|    _|_|      _|_|_|    _|_|_|  _|_|_|  _|      _|    _|_|_|      _|        _|    _|    _|_|_|  _|_|_|_|\n",
            "\n",
            "    To login, `huggingface_hub` requires a token generated from https://huggingface.co/settings/tokens .\n",
            "Token: \n",
            "Add token as git credential? (Y/n) n\n",
            "Token is valid (permission: read).\n",
            "Your token has been saved to /root/.cache/huggingface/token\n",
            "Login successful\n"
          ]
        }
      ]
    },
    {
      "cell_type": "markdown",
      "source": [
        "## Efficiently Loading Tokenizers for NLP Tasks\n",
        "\n",
        "This section delves into the code snippet `tokenizer = AutoTokenizer.from_pretrained(tokenizer_name)`, explaining its role and functionalities within your transfer learning tutorial:\n",
        "\n",
        "**Purpose:**\n",
        "\n",
        "This line of code is responsible for **loading the tokenizer associated with a specific pre-trained model** named by `tokenizer_name`.\n",
        "\n",
        "**Breakdown:**\n",
        "\n",
        "* **`AutoTokenizer`:** This class from the Transformers library automatically identifies and loads the appropriate tokenizer for the given model name. This eliminates the need for remembering or manually specifying the exact tokenizer class name, simplifying the process.\n",
        "* **`.from_pretrained(tokenizer_name)`:** This method calls the `from_pretrained` function of the `AutoTokenizer` class.\n",
        "    * **`tokenizer_name` (argument):** This argument specifies the name of the pre-trained model or tokenizer you want to load. In your case, it will be the name of the tokenizer you want to use (e.g., `\"SeaLLMs/SeaLLM-7B-v2\"`).\n",
        "\n",
        "**Functionalities:**\n",
        "\n",
        "The loaded tokenizer is responsible for:\n",
        "\n",
        "* **Preprocessing text data:** This involves tasks like splitting text into words or subwords (tokens), handling special characters, and potentially applying additional transformations specific to the model's requirements.\n",
        "* **Converting text to numerical representations:** The tokenizer converts the preprocessed tokens into numerical encodings that the model can understand and process during training and inference.\n",
        "* **Handling special tokens:** Tokenizers often define special tokens like padding tokens to ensure sequences have the same length and delimiters like start-of-sequence (SOS) and end-of-sequence (EOS) tokens for contextual understanding.\n",
        "\n",
        "**Benefits of `AutoTokenizer`:**\n",
        "\n",
        "* **Efficiency:** It simplifies the process by automatically fetching the correct tokenizer, saving you from manually searching for the corresponding class name.\n",
        "* **Flexibility:** It works with various pre-trained models from the Hugging Face Hub, making it adaptable to different scenarios within your transfer learning workflow.\n",
        "\n",
        "**Example Usage:**\n",
        "\n",
        "```python\n",
        "tokenizer_name = \"bert-base-uncased\"  # Example model name\n",
        "tokenizer = AutoTokenizer.from_pretrained(tokenizer_name)\n",
        "\n",
        "# Example usage: Tokenize a sentence\n",
        "sentence = \"This is a sample sentence.\"\n",
        "encoded_text = tokenizer(sentence, return_tensors=\"pt\")  # Tokenize and convert to tensors\n",
        "```\n"
      ],
      "metadata": {
        "id": "oODwpHtqPX7D"
      }
    },
    {
      "cell_type": "markdown",
      "source": [
        "## Analyzing Tokenizer Behavior\n",
        "This section delves into the analysis of the provided tokenizers, highlighting key observations and potential implications for your transfer learning task:\n",
        "\n",
        "**1. Code Breakdown:**\n",
        "\n",
        "- **`tokenizer_list`:** This list contains the names of the two tokenizers being compared: Mistral-7B-Instruct-v0.2 and SeaLLM-7B-v2.\n",
        "- **Processing Loop:**\n",
        "    - The code iterates through each tokenizer name.\n",
        "    - It loads the corresponding tokenizer using `AutoTokenizer.from_pretrained`.\n",
        "    - Sets the padding token and end-of-sentence token to be the same (`tokenizer.eos_token`) for consistency.\n",
        "    - Defines an example input text in Burmese (မျက်စိနာတာကို မကူးစက်အောင် ဘယ်လိုကာကွယ်ကြမလဲ!).\n",
        "    - Tokenizes the input text using `tokenizer.tokenize`.\n",
        "    - Prints the tokenized output and its length.\n",
        "    - Retrieves the tokenizer's vocabulary size using `tokenizer.vocab_size`.\n",
        "    - Appends the token count and vocabulary size to respective lists for comparison.\n",
        "\n",
        "**2. Observations:**\n",
        "\n",
        "- **Number of Tokens:**\n",
        "    - **Mistral-7B-Instruct-v0.2:** Tokenizes the input text into 64 tokens.\n",
        "    - **SeaLLM-7B-v2:** Tokenizes the same text into only 14 tokens.\n",
        "- **Vocabulary Size:**\n",
        "    - **Mistral-7B-Instruct-v0.2:** Has a vocabulary size of 32,000.\n",
        "    - **SeaLLM-7B-v2:** Has a vocabulary size of 48,384.\n",
        "\n",
        "**3. Implications for Transfer Learning:**\n",
        "\n",
        "- **Tokenization Discrepancy:** The significant difference in the number of tokens generated by each tokenizer.\n",
        "\n",
        "- **Vocabulary Size:** While the SeaLLM-7B-v2 has a larger vocabulary, it also generates fewer tokens. This suggests it might have a more efficient vocabulary representation for capturing information.\n",
        "\n",
        "**4. Recommendations:**\n",
        "\n",
        "- Carefully analyze the tokenization behavior of both models to understand potential challenges and explore mitigation strategies.\n",
        "- Consider techniques like subword segmentation or vocabulary alignment to bridge the gap between the tokenization styles of the source and destination models.\n",
        "- Experiment with different transfer learning approaches and evaluate the impact of tokenization differences on the final model performance.\n",
        "\n",
        "**Note:** This analysis provides a starting point for understanding the potential impact of tokenizer differences. Further investigation and experimentation are crucial to optimize your transfer learning process.\n"
      ],
      "metadata": {
        "id": "F8Kr2jkDRpux"
      }
    },
    {
      "cell_type": "code",
      "source": [
        "tokenizer_list = [\"mistralai/Mistral-7B-Instruct-v0.2\",\"SeaLLMs/SeaLLM-7B-v2\",]\n",
        "\n",
        "# Initialize lists to store token counts and vocabulary sizes\n",
        "token_counts = []\n",
        "vocab_sizes = []\n",
        "\n",
        "for tokenizer_name in tokenizer_list:\n",
        "    tokenizer = AutoTokenizer.from_pretrained(tokenizer_name)\n",
        "    tokenizer.pad_token = tokenizer.eos_token\n",
        "\n",
        "    input_text = \"မျက်စိနာတာကို မကူးစက်အောင် ဘယ်လိုကာကွယ်ကြမလဲ!\"\n",
        "    output = tokenizer.tokenize(input_text)\n",
        "    print(\"------\",tokenizer_name,\"------\")\n",
        "    print(output)\n",
        "    print('Number of tokens (Input Text)',len(output))\n",
        "\n",
        "    # Get the length of the tokenizer's vocabulary\n",
        "    vocab_size = tokenizer.vocab_size\n",
        "    print(\"Vocabulary size of tokenizer:\", vocab_size)\n",
        "\n",
        "    # Append token count and vocabulary size to the lists\n",
        "    token_counts.append(len(output))\n",
        "    vocab_sizes.append(vocab_size)\n"
      ],
      "metadata": {
        "colab": {
          "base_uri": "https://localhost:8080/"
        },
        "id": "6JcEhBe4K5k7",
        "outputId": "b1c24a54-ce49-4967-8439-7887368d72ed"
      },
      "execution_count": 4,
      "outputs": [
        {
          "output_type": "stream",
          "name": "stderr",
          "text": [
            "/usr/local/lib/python3.10/dist-packages/huggingface_hub/utils/_token.py:88: UserWarning: \n",
            "The secret `HF_TOKEN` does not exist in your Colab secrets.\n",
            "To authenticate with the Hugging Face Hub, create a token in your settings tab (https://huggingface.co/settings/tokens), set it as secret in your Google Colab and restart your session.\n",
            "You will be able to reuse this secret in all of your notebooks.\n",
            "Please note that authentication is recommended but still optional to access public models or datasets.\n",
            "  warnings.warn(\n"
          ]
        },
        {
          "output_type": "stream",
          "name": "stdout",
          "text": [
            "------ mistralai/Mistral-7B-Instruct-v0.2 ------\n",
            "['▁', 'မ', '<0xE1>', '<0x80>', '<0xBB>', 'က', '်', 'စ', 'ိ', 'န', 'ာ', 'တ', 'ာ', 'က', 'ိ', 'ု', '▁', 'မ', 'က', '<0xE1>', '<0x80>', '<0xB0>', 'း', 'စ', 'က', '်', 'အ', 'ေ', 'ာ', 'င', '်', '▁', '<0xE1>', '<0x80>', '<0x98>', '<0xE1>', '<0x80>', '<0x9A>', '်', '<0xE1>', '<0x80>', '<0x9C>', 'ိ', 'ု', 'က', 'ာ', 'က', '<0xE1>', '<0x80>', '<0xBD>', '<0xE1>', '<0x80>', '<0x9A>', '်', 'က', 'ြ', 'မ', '<0xE1>', '<0x80>', '<0x9C>', '<0xE1>', '<0x80>', '<0xB2>', '!']\n",
            "Number of tokens (Input Text) 64\n",
            "Vocabulary size of tokenizer: 32000\n",
            "------ SeaLLMs/SeaLLM-7B-v2 ------\n",
            "['▁မျက်', 'စိ', 'နာ', 'တာကို', '▁မ', 'ကူး', 'စက်', 'အောင်', '▁ဘယ်လို', 'ကာ', 'ကွယ်', 'ကြ', 'မလဲ', '!']\n",
            "Number of tokens (Input Text) 14\n",
            "Vocabulary size of tokenizer: 48384\n"
          ]
        }
      ]
    },
    {
      "cell_type": "code",
      "source": [
        "import matplotlib.pyplot as plt\n",
        "\n",
        "# Define colors for each bar\n",
        "colors = ['blue', 'green', 'red', 'purple', 'orange']\n",
        "\n",
        "# Plotting token counts\n",
        "plt.figure(figsize=(6, 4))\n",
        "plt.barh(tokenizer_list, token_counts, color=colors)\n",
        "plt.xlabel(\"Token Count\")\n",
        "plt.ylabel(\"Tokenizer\")\n",
        "plt.title(\"Tokenization Analysis - Token Counts\")\n",
        "plt.tight_layout()\n",
        "plt.show()\n",
        "\n",
        "# Plotting vocabulary sizes\n",
        "plt.figure(figsize=(6, 4))\n",
        "plt.barh(tokenizer_list, vocab_sizes, color=colors)\n",
        "plt.xlabel(\"Vocabulary Size\")\n",
        "plt.ylabel(\"Tokenizer\")\n",
        "plt.title(\"Tokenization Analysis - Vocabulary Sizes\")\n",
        "plt.tight_layout()\n",
        "plt.show()\n"
      ],
      "metadata": {
        "colab": {
          "base_uri": "https://localhost:8080/",
          "height": 797
        },
        "id": "NzzOaawPQLzC",
        "outputId": "0ae3291c-0ac0-460a-b462-8a64d99c74e6"
      },
      "execution_count": 5,
      "outputs": [
        {
          "output_type": "display_data",
          "data": {
            "text/plain": [
              "<Figure size 600x400 with 1 Axes>"
            ],
            "image/png": "[encoded data removed]"
          },
          "metadata": {}
        },
        {
          "output_type": "display_data",
          "data": {
            "text/plain": [
              "<Figure size 600x400 with 1 Axes>"
            ],
            "image/png": "[encoded data removed]"
          },
          "metadata": {}
        }
      ]
    },
    {
      "cell_type": "markdown",
      "source": [
        "## Loading Source and Destination Models: Preparation for Knowledge Transfer"
      ],
      "metadata": {
        "id": "uuUqc9rUSrlz"
      }
    },
    {
      "cell_type": "markdown",
      "source": [
        "**In this tutorial, the following code snippet ensures you have the necessary tokenizer loaded to effectively handle text data and interact with the chosen model (Mistral-7B-Instruct-v0.2) while using the vocabulary and tokenization scheme specific to the SeaLLM-7B-v2 tokenizer.**"
      ],
      "metadata": {
        "id": "CFclmpVVQgku"
      }
    },
    {
      "cell_type": "code",
      "source": [
        "tokenizer = AutoTokenizer.from_pretrained(tokenizer_name)"
      ],
      "metadata": {
        "id": "J2_ovJlRNhAn"
      },
      "execution_count": 6,
      "outputs": []
    },
    {
      "cell_type": "markdown",
      "source": [
        "\n",
        "\n",
        "Here's a breakdown of the code snippets for loading the source and destination models, highlighting their roles and the applied quantization techniques for efficiency:\n",
        "\n",
        "**1. Configuring Quantization:**\n",
        "\n",
        "```python\n",
        "bnb_config = BitsAndBytesConfig(\n",
        "    load_in_4bit=True,\n",
        "    bnb_4bit_quant_type=\"nf4\",\n",
        "    bnb_4bit_compute_dtype=torch.float16,\n",
        "    bnb_4bit_use_double_quant=False,\n",
        ")\n",
        "```\n",
        "\n",
        "- **Purpose:** Sets up quantization configuration for loading models with reduced precision for potential performance and memory benefits.\n",
        "- **BitsAndBytesConfig:** Utilizes the BitsAndBytes library for quantization techniques.\n",
        "- **Key Settings:**\n",
        "    - `load_in_4bit=True`: Loads model weights in 4-bit format for memory optimization.\n",
        "    - `bnb_4bit_quant_type=\"nf4\"`: Specifies the type of 4-bit quantization (likely \"near-float4\").\n",
        "    - `bnb_4bit_compute_dtype=torch.float16`: Uses 16-bit floating-point precision for computations, striking a balance between accuracy and efficiency.\n",
        "    - `bnb_4bit_use_double_quant=False`: Disables double quantization, likely for simplicity and compatibility.\n",
        "\n",
        "**2. Loading Model:**\n",
        "\n",
        "```python\n",
        "src_model = AutoModelForCausalLM.from_pretrained(\n",
        "    model_name,\n",
        "    quantization_config=bnb_config,\n",
        "    device_map={\"\": 0}\n",
        ")\n",
        "```\n",
        "\n",
        "- **Key Arguments:**\n",
        "    - `model_name`: Name of the source model to load.\n",
        "    - `quantization_config=bnb_config`: Applies the defined quantization configuration.\n",
        "    - `device_map={\"\": 0}`: Specifies to load the model onto GPU device 0 for accelerated processing.\n",
        "\n",
        "\n",
        "**Key Points:**\n",
        "\n",
        "- Quantization can reduce model size and improve memory efficiency, potentially impacting speed.\n",
        "- The models are loaded onto a GPU for faster processing.\n",
        "- This setup prepares for transferring knowledge from the pre-trained source model to the destination model, aiming to enhance the capabilities of the destination model.\n",
        "\n",
        "**Remember:** Consider potential model compatibility and performance implications when adjusting quantization settings. Experimentation and careful evaluation are crucial for optimal results.\n"
      ],
      "metadata": {
        "id": "6ChD37XMcqLq"
      }
    },
    {
      "cell_type": "code",
      "source": [
        "# Load base model to transfer weight\n",
        "bnb_config = BitsAndBytesConfig(\n",
        "    load_in_4bit= True,\n",
        "    bnb_4bit_quant_type= \"nf4\",\n",
        "    bnb_4bit_compute_dtype= torch.float16,\n",
        "    bnb_4bit_use_double_quant= False,\n",
        ")\n",
        "# Load base model source\n",
        "src_model = AutoModelForCausalLM.from_pretrained(\n",
        "    model_name,\n",
        "    quantization_config=bnb_config,\n",
        "    device_map={\"\": 0}\n",
        ")\n",
        "# Load base model destination\n",
        "des_model = AutoModelForCausalLM.from_pretrained(\n",
        "    tokenizer_name,\n",
        "    quantization_config=bnb_config,\n",
        "    device_map={\"\": 0}\n",
        ")"
      ],
      "metadata": {
        "colab": {
          "base_uri": "https://localhost:8080/",
          "height": 49,
          "referenced_widgets": [
            "52922bddfc5d4844aec6a29da290532f",
            "35428debe85a4494a742970eb9dea703",
            "6ffff0ee51a349aa8adb39a231472317",
            "636125f5e63541ff861360a1ba5d1611",
            "dd8061524f544f0daee5b94ce251ed98",
            "5ffe847ecb3a422fac408544069d1b2f",
            "2e3c115bc75b4766a44b8ef61d8fead1",
            "93eb987f7e914d0dab6bfcb6b2513ce6",
            "86185c3635424ba8bf157d98addd3854",
            "68e6efb01fbd426a9c16316c5993aae1",
            "285978cbcbaa4a82b1b4b7724601c802"
          ]
        },
        "id": "e5LjskpdvJo6",
        "outputId": "150e7f12-6b74-465f-e941-6fc67f6114dc"
      },
      "execution_count": 7,
      "outputs": [
        {
          "output_type": "display_data",
          "data": {
            "text/plain": [
              "Loading checkpoint shards:   0%|          | 0/3 [00:00<?, ?it/s]"
            ],
            "application/vnd.jupyter.widget-view+json": {
              "version_major": 2,
              "version_minor": 0,
              "model_id": "52922bddfc5d4844aec6a29da290532f"
            }
          },
          "metadata": {}
        }
      ]
    },
    {
      "cell_type": "markdown",
      "source": [
        "## Understanding Input and Output Embeddings\n",
        "\n",
        "These lines of code are used to **explore the input and output embedding layers** of the source (Mistral-7B-Instruct-v0.2) and destination (SeaLLM-7B-v2) models.\n",
        "\n",
        "* **`get_input_embeddings()`**: This function retrieves the model's **input embedding layer**, responsible for transforming input tokens (words or subwords) into numerical representations suitable for processing by the model's internal layers.\n",
        "* **`get_output_embeddings()`**: This function retrieves the model's **output embedding layer**, responsible for transforming the final hidden state of the model back into the vocabulary space. This allows the model to generate text sequences by predicting the next token based on the encoded representation."
      ],
      "metadata": {
        "id": "ZOat0Z8dXJuu"
      }
    },
    {
      "cell_type": "code",
      "source": [
        "print(\"Source input\",src_model.get_input_embeddings())\n",
        "print(\"Destination input\",des_model.get_input_embeddings())"
      ],
      "metadata": {
        "colab": {
          "base_uri": "https://localhost:8080/"
        },
        "id": "yZm47NA9XJx5",
        "outputId": "8fc988ac-a410-480f-b6a3-fab8f152636c"
      },
      "execution_count": 8,
      "outputs": [
        {
          "output_type": "stream",
          "name": "stdout",
          "text": [
            "Source input Embedding(32000, 4096)\n",
            "Destination input Embedding(48384, 4096)\n"
          ]
        }
      ]
    },
    {
      "cell_type": "code",
      "source": [
        "print(\"Source output\",src_model.get_output_embeddings())\n",
        "print(\"Destination output\",des_model.get_output_embeddings())"
      ],
      "metadata": {
        "colab": {
          "base_uri": "https://localhost:8080/"
        },
        "id": "JPixs2DKXKiP",
        "outputId": "70383a80-f87d-4345-b69d-1acb0774d81c"
      },
      "execution_count": 9,
      "outputs": [
        {
          "output_type": "stream",
          "name": "stdout",
          "text": [
            "Source output Linear(in_features=4096, out_features=32000, bias=False)\n",
            "Destination output Linear(in_features=4096, out_features=48384, bias=False)\n"
          ]
        }
      ]
    },
    {
      "cell_type": "code",
      "source": [
        "src_model.get_input_embeddings().state_dict()"
      ],
      "metadata": {
        "colab": {
          "base_uri": "https://localhost:8080/"
        },
        "id": "A81kjdUuXiUM",
        "outputId": "57ac96ea-25f9-46b4-9910-0fdb94e5136a"
      },
      "execution_count": 10,
      "outputs": [
        {
          "output_type": "execute_result",
          "data": {
            "text/plain": [
              "OrderedDict([('weight',\n",
              "              tensor([[-0.0000e+00,  0.0000e+00, -0.0000e+00,  ..., -0.0000e+00,\n",
              "                       -0.0000e+00, -0.0000e+00],\n",
              "                      [-4.3640e-03, -1.0633e-04, -5.6152e-03,  ..., -5.0545e-05,\n",
              "                       -1.1520e-03,  1.5926e-04],\n",
              "                      [-1.7471e-03,  1.0300e-03,  3.7432e-05,  ...,  1.1826e-03,\n",
              "                        3.7003e-04,  3.2425e-04],\n",
              "                      ...,\n",
              "                      [ 4.4556e-03, -1.3199e-03,  4.1008e-04,  ..., -4.4823e-05,\n",
              "                        5.4321e-03,  1.3351e-03],\n",
              "                      [-5.5313e-04,  3.3569e-03,  3.2654e-03,  ...,  1.0834e-03,\n",
              "                        1.4648e-03,  9.1171e-04],\n",
              "                      [-3.7842e-03, -4.8637e-04, -5.7068e-03,  ...,  4.2114e-03,\n",
              "                       -4.1580e-04, -2.5330e-03]], device='cuda:0', dtype=torch.float16))])"
            ]
          },
          "metadata": {},
          "execution_count": 10
        }
      ]
    },
    {
      "cell_type": "code",
      "source": [
        "des_model.get_input_embeddings().state_dict()"
      ],
      "metadata": {
        "id": "r1yyzrsnXpyk",
        "colab": {
          "base_uri": "https://localhost:8080/"
        },
        "outputId": "6b4c1bb8-f286-4f00-cf40-d7f54d4b6335"
      },
      "execution_count": 11,
      "outputs": [
        {
          "output_type": "execute_result",
          "data": {
            "text/plain": [
              "OrderedDict([('weight',\n",
              "              tensor([[-3.5286e-04,  3.5667e-04, -8.6212e-04,  ...,  6.7711e-05,\n",
              "                       -2.7466e-04, -5.1880e-04],\n",
              "                      [-4.0588e-03,  1.0300e-03, -4.6997e-03,  ..., -1.1673e-03,\n",
              "                       -9.0027e-04, -8.8501e-04],\n",
              "                      [-1.8311e-03,  2.3556e-04, -9.9945e-04,  ...,  7.2479e-04,\n",
              "                       -8.5831e-04, -5.9128e-04],\n",
              "                      ...,\n",
              "                      [ 5.5847e-03, -1.0669e-05,  9.0790e-04,  ..., -1.4648e-03,\n",
              "                       -8.7738e-04, -2.7771e-03],\n",
              "                      [ 9.6893e-04,  1.8539e-03, -1.9989e-03,  ..., -4.9210e-04,\n",
              "                        1.0910e-03, -8.6975e-04],\n",
              "                      [ 2.6245e-03,  1.4572e-03,  7.8964e-04,  ..., -2.7008e-03,\n",
              "                       -9.0790e-04,  2.7313e-03]], device='cuda:0', dtype=torch.float16))])"
            ]
          },
          "metadata": {},
          "execution_count": 11
        }
      ]
    },
    {
      "cell_type": "markdown",
      "source": [
        "\n",
        "\n",
        "\n",
        "\n",
        "By printing the information from these functions, you can potentially:\n",
        "\n",
        "* **Compare the dimensions:** See if the input and output embedding dimensions are compatible between the two models. Significant differences might require adjustments during transfer learning.\n",
        "* **Gain insights into vocabulary size:** The size of the output embedding layer might indicate the model's vocabulary size, which could be relevant for understanding the models' capabilities.\n",
        "\n",
        "However, it's important to remember that simply observing the embedding layers might not provide extensive information about the models' inner workings or their transferability. It's crucial to analyze the overall architectures and consider other factors like the custom components and quantization used in the models."
      ],
      "metadata": {
        "id": "3eh1iowzWGEM"
      }
    },
    {
      "cell_type": "markdown",
      "source": [
        "## Analyzing Decoder Architectures: Key Components and Considerations"
      ],
      "metadata": {
        "id": "6pWK1a6AUUVk"
      }
    },
    {
      "cell_type": "code",
      "source": [
        "src_model.get_decoder()"
      ],
      "metadata": {
        "colab": {
          "base_uri": "https://localhost:8080/"
        },
        "id": "TDAwbrXqXGCf",
        "outputId": "51e7521e-f461-43bb-a22c-e0a25dbac713"
      },
      "execution_count": 12,
      "outputs": [
        {
          "output_type": "execute_result",
          "data": {
            "text/plain": [
              "MistralModel(\n",
              "  (embed_tokens): Embedding(32000, 4096)\n",
              "  (layers): ModuleList(\n",
              "    (0-31): 32 x MistralDecoderLayer(\n",
              "      (self_attn): MistralAttention(\n",
              "        (q_proj): Linear4bit(in_features=4096, out_features=4096, bias=False)\n",
              "        (k_proj): Linear4bit(in_features=4096, out_features=1024, bias=False)\n",
              "        (v_proj): Linear4bit(in_features=4096, out_features=1024, bias=False)\n",
              "        (o_proj): Linear4bit(in_features=4096, out_features=4096, bias=False)\n",
              "        (rotary_emb): MistralRotaryEmbedding()\n",
              "      )\n",
              "      (mlp): MistralMLP(\n",
              "        (gate_proj): Linear4bit(in_features=4096, out_features=14336, bias=False)\n",
              "        (up_proj): Linear4bit(in_features=4096, out_features=14336, bias=False)\n",
              "        (down_proj): Linear4bit(in_features=14336, out_features=4096, bias=False)\n",
              "        (act_fn): SiLU()\n",
              "      )\n",
              "      (input_layernorm): MistralRMSNorm()\n",
              "      (post_attention_layernorm): MistralRMSNorm()\n",
              "    )\n",
              "  )\n",
              "  (norm): MistralRMSNorm()\n",
              ")"
            ]
          },
          "metadata": {},
          "execution_count": 12
        }
      ]
    },
    {
      "cell_type": "code",
      "source": [
        "des_model.get_decoder()"
      ],
      "metadata": {
        "id": "GYU8iWtLUOLj",
        "colab": {
          "base_uri": "https://localhost:8080/"
        },
        "outputId": "62f424f2-8340-421b-c059-baeaa9688e93"
      },
      "execution_count": 13,
      "outputs": [
        {
          "output_type": "execute_result",
          "data": {
            "text/plain": [
              "MistralModel(\n",
              "  (embed_tokens): Embedding(48384, 4096)\n",
              "  (layers): ModuleList(\n",
              "    (0-31): 32 x MistralDecoderLayer(\n",
              "      (self_attn): MistralAttention(\n",
              "        (q_proj): Linear4bit(in_features=4096, out_features=4096, bias=False)\n",
              "        (k_proj): Linear4bit(in_features=4096, out_features=1024, bias=False)\n",
              "        (v_proj): Linear4bit(in_features=4096, out_features=1024, bias=False)\n",
              "        (o_proj): Linear4bit(in_features=4096, out_features=4096, bias=False)\n",
              "        (rotary_emb): MistralRotaryEmbedding()\n",
              "      )\n",
              "      (mlp): MistralMLP(\n",
              "        (gate_proj): Linear4bit(in_features=4096, out_features=14336, bias=False)\n",
              "        (up_proj): Linear4bit(in_features=4096, out_features=14336, bias=False)\n",
              "        (down_proj): Linear4bit(in_features=14336, out_features=4096, bias=False)\n",
              "        (act_fn): SiLU()\n",
              "      )\n",
              "      (input_layernorm): MistralRMSNorm()\n",
              "      (post_attention_layernorm): MistralRMSNorm()\n",
              "    )\n",
              "  )\n",
              "  (norm): MistralRMSNorm()\n",
              ")"
            ]
          },
          "metadata": {},
          "execution_count": 13
        }
      ]
    },
    {
      "cell_type": "markdown",
      "source": [
        "\n",
        "\n",
        "Here's a breakdown of the decoder architectures for both models, highlighting crucial components and considerations for transfer learning:\n",
        "\n",
        "**Shared Characteristics:**\n",
        "\n",
        "- **Embedding Layer:** Both models start with an embedding layer that maps input tokens to dense vector representations.\n",
        "- **LayerStack:** They both utilize a `ModuleList` structure containing multiple decoder layers for sequential processing.\n",
        "- **Layer Normalization:** Each decoder layer employs normalization techniques to stabilize training and improve convergence.\n",
        "\n",
        "**Architecture-Specific Elements:**\n",
        "\n",
        "**Mistral Model:**\n",
        "\n",
        "- **MistralDecoderLayer:**\n",
        "    - **MistralAttention:** Custom attention mechanism with quantized linear transformations and a rotary embedding for potential efficiency and modeling capabilities.\n",
        "    - **MistralMLP:** Custom MLP with quantized layers and SiLU activation for non-linearity.\n",
        "    - **MistralRMSNorm:** Custom RMS normalization layer.\n",
        "\n",
        "**SeaLLM Model:**\n",
        "- **MistralDecoderLayer:**\n",
        "    - **MistralAttention:** Custom attention mechanism with quantized linear transformations and a rotary embedding for potential efficiency and modeling capabilities.\n",
        "    - **MistralMLP:** Custom MLP with quantized layers and SiLU activation for non-linearity.\n",
        "    - **MistralRMSNorm:** Custom RMS normalization layer.\n",
        "\n",
        "**Key Considerations for Transfer Learning:**\n",
        "\n",
        "- **Compatibility:** Examine the compatibility of layer types and dimensions to ensure smooth transfer of weights.\n",
        "- **Custom Components:** Understand the effects of custom components like `MistralAttention` and `MistralMLP` on compatibility and potential knowledge transfer.\n",
        "- **Quantization:** Be mindful of quantization differences and potential compatibility issues when transferring weights between quantized and non-quantized models.\n",
        "- **Experimentation:** Explore different transfer strategies, such as transferring all layers or selective layers, based on architecture similarities and knowledge transfer goals.\n",
        "\n",
        "**By carefully analyzing these decoder architectures and considering their implications, you can make informed choices about suitable transfer learning approaches and potentially achieve effective knowledge transfer between the models.**\n"
      ],
      "metadata": {
        "id": "6ju0w_1sTn4B"
      }
    },
    {
      "cell_type": "markdown",
      "source": [
        "**1. `embed_tokens` (Embedding layer):**\n",
        "\n",
        "- This layer maps each input token (word) in a sequence to a dense embedding vector of size 4096. This embedding process captures semantic relationships between words.\n",
        "- The parameter `48384` indicates the vocabulary size (the number of unique words the model can handle).\n",
        "\n",
        "**2. `layers` (ModuleList):**\n",
        "\n",
        "- This module list holds 32 instances of `MistralDecoderLayer`, forming the core network of the model.\n",
        "- Each `MistralDecoderLayer` applies two main sub-layers: self-attention and a feed-forward network (MLP).\n",
        "\n",
        "**3. `MistralDecoderLayer`:**\n",
        "\n",
        "- This class represents a single processing step within the network.\n",
        "- **`self_attn` (MistralAttention):**\n",
        "    - This sub-layer performs **self-attention**, analyzing the relationships between words within the same input sequence.\n",
        "    - It uses multiple linear projections (`Linear4bit`) to generate query (`q_proj`), key (`k_proj`), and value (`v_proj`) vectors for each token.\n",
        "    - Additionally, it employs a `MistralRotaryEmbedding` layer, which is a specific type of positional encoding mechanism not commonly found in standard transformer implementations.\n",
        "- **`mlp` (MistralMLP):**\n",
        "    - This sub-layer acts as a feed-forward network, transforming the output of the self-attention layer.\n",
        "    - It uses linear projections (`Linear4bit`) for the gate projection (`gate_proj`), the upward projection (`up_proj`), and the downward projection (`down_proj`).\n",
        "    - The activation function (`act_fn`) is a specific type called \"SiLU\" (Sigmoid Linear Unit).\n",
        "- **`input_layernorm` and `post_attention_layernorm` (MistralRMSNorm):**\n",
        "    - These layers use a specific form of layer normalization (`MistralRMSNorm`) to stabilize the training process.\n",
        "\n",
        "**4. `norm` (MistralRMSNorm):**\n",
        "\n",
        "- This final layer applies another normalization step to the output of the entire network."
      ],
      "metadata": {
        "id": "1aJT6wQ-dPbe"
      }
    },
    {
      "cell_type": "markdown",
      "source": [
        "Embedding size of mistralai/Mistral-7B-Instruct-v0.2 is 32000.\n",
        "\n",
        "Embedding size of SeaLLMs/SeaLLM-7B-v2 is 48384."
      ],
      "metadata": {
        "id": "y54RhxV2Xw7O"
      }
    },
    {
      "cell_type": "markdown",
      "source": [
        "## Implementing Knowledge Transfer with Configuration Options\n",
        "\n",
        "This section outlines the code for implementing knowledge transfer based on your choices:\n",
        "\n",
        "```python\n",
        "# Configuration options (replace with your actual choices)\n",
        "transfer_input_embeddings = True\n",
        "transfer_output_embeddings = False\n",
        "transfer_decoder = True\n",
        "\n",
        "# Get vocabulary size of both models\n",
        "model_vocab_size = src_model.get_input_embeddings().num_embeddings\n",
        "tokenizer_vocab_size = len(tokenizer.vocab)\n",
        "\n",
        "# Check if tokenizer has a larger vocabulary\n",
        "if tokenizer_vocab_size > model_vocab_size:\n",
        "  print(\"Tokenizer vocabulary is larger than model's vocabulary. Adaptation is needed.\")\n",
        "  src_model.resize_token_embeddings(len(tokenizer))  # Adjust size if necessary\n",
        "\n",
        "# Perform knowledge transfer based on configuration\n",
        "if transfer_input_embeddings:\n",
        "  # Transfer input embeddings\n",
        "  src_model.get_input_embeddings().load_state_dict(des_model.get_input_embeddings().state_dict())\n",
        "\n",
        "if transfer_output_embeddings:\n",
        "  # Transfer output embeddings\n",
        "  src_model.get_output_embeddings().load_state_dict(des_model.get_output_embeddings().state_dict())\n",
        "\n",
        "if transfer_decoder:\n",
        "  # Transfer decoder weights\n",
        "  src_model.get_decoder().load_state_dict(des_model.get_decoder().state_dict())\n",
        "else:\n",
        "  print(\"Skipping decoder transfer based on your configuration.\")\n",
        "\n",
        "# Note: The code snippet does not handle the case where the tokenizer vocabulary is smaller than the model's, as it's generally not recommended.\n",
        "\n",
        "# Proceed with further training or fine-tuning the source model with transferred knowledge\n",
        "```\n",
        "\n",
        "**Explanation:**\n",
        "\n",
        "1. **Configuration:** Define variables like `transfer_input_embeddings`, `transfer_output_embeddings`, and `transfer_decoder` to reflect your desired transfer settings (replace with `True` or `False` based on your actual choices).\n",
        "2. **Vocabulary Check:** Check if the tokenizer's vocabulary size (`tokenizer_vocab_size`) is larger than the model's vocabulary size (`model_vocab_size`).\n",
        "    - If larger, a message is printed indicating adaptation might be needed.\n",
        "    - The code also includes the line `src_model.resize_token_embeddings(len(tokenizer))`, which is commented out by default. This line would adjust the source model's embedding layer size to match the tokenizer's vocabulary if needed. **Use this line with caution and carefully consider potential consequences before uncommenting.**\n",
        "3. **Knowledge Transfer:** Based on your configuration choices:\n",
        "    - If `transfer_input_embeddings` is `True`, the weights of the input embedding layer are copied from the destination model to the source model.\n",
        "    - If `transfer_output_embeddings` is `True`, the weights of the output embedding layer are copied from the destination model to the source model.\n",
        "    - If `transfer_decoder` is `True`, the weights of the decoder layer are copied from the destination model to the source model.\n",
        "    - If `transfer_decoder` is `False`, a message is printed stating the decoder transfer is skipped.\n",
        "\n",
        "**Remember:**\n",
        "\n",
        "- Experiment with different configuration options to explore the impact of knowledge transfer on the resulting model's performance.\n",
        "- Carefully consider potential compatibility issues and the implications of vocabulary size differences before adapting the model's embedding layer size."
      ],
      "metadata": {
        "id": "IQz5wGDoduQn"
      }
    },
    {
      "cell_type": "markdown",
      "source": [
        "### Testing Knowledge Transfer Configurations\n",
        "\n",
        "Here's a breakdown of the model's behavior for the three configurations you provided:\n",
        "\n",
        "**Configuration 1**\n",
        "\n",
        "* **Transfer Input Embeddings:** **Enabled**\n",
        "* **Transfer Output Embeddings:** **Disabled**\n",
        "* **Transfer Decoder:** **Disabled**\n",
        "\n",
        "In this scenario:\n",
        "\n",
        "- The source model's input embedding layer will be updated with weights from the destination model. This might help the source model understand the vocabulary and token representations used by the destination model, potentially improving its performance on tasks that align with the destination model's strengths.\n",
        "- The source model's output embedding layer and decoder layers will **not** be modified. This means the model's output vocabulary and decoding process will remain unchanged.\n",
        "\n"
      ],
      "metadata": {
        "id": "iYob2sw8a5N4"
      }
    },
    {
      "cell_type": "code",
      "source": [
        "transfer_input_embeddings = True\n",
        "transfer_output_embeddings = False\n",
        "transfer_decoder = False\n",
        "\n",
        "# Get vocabulary size of both models\n",
        "model_vocab_size = src_model.get_input_embeddings().num_embeddings\n",
        "tokenizer_vocab_size = len(tokenizer.vocab)\n",
        "\n",
        "# Check if tokenizer has a larger vocabulary\n",
        "if tokenizer_vocab_size > model_vocab_size:\n",
        "  print(\"Tokenizer vocabulary is larger than model's vocabulary. Adaptation is needed.\")\n",
        "  src_model.resize_token_embeddings(len(tokenizer))  # Adjust size if necessary\n",
        "\n",
        "if transfer_input_embeddings == True:\n",
        "  # Copy weights of the embedding layer from destination model to source\n",
        "  src_model.get_input_embeddings().load_state_dict(des_model.get_input_embeddings().state_dict())\n",
        "\n",
        "if transfer_output_embeddings == True:\n",
        "  src_model.get_output_embeddings().load_state_dict(des_model.get_output_embeddings().state_dict())\n",
        "\n",
        "if transfer_decoder == True:\n",
        "  # Copy weights of the decoder layer from destination model to source\n",
        "  src_model.get_decoder().load_state_dict(des_model.get_decoder().state_dict())\n",
        "\n",
        "else:\n",
        "    # Handle the case where tokenizer has smaller vocabulary (not recommended)\n",
        "    print(\"Tokenizer vocabulary is smaller than model's vocabulary. Adaptation not needed.\")\n"
      ],
      "metadata": {
        "id": "f7Mne6-l-b3P",
        "colab": {
          "base_uri": "https://localhost:8080/"
        },
        "outputId": "b4006ea9-c06e-4661-9383-7e80af2a6fe5"
      },
      "execution_count": 15,
      "outputs": [
        {
          "output_type": "stream",
          "name": "stdout",
          "text": [
            "Tokenizer vocabulary is larger than model's vocabulary. Adaptation is needed.\n",
            "Tokenizer vocabulary is smaller than model's vocabulary. Adaptation not needed.\n"
          ]
        }
      ]
    },
    {
      "cell_type": "code",
      "source": [
        "def stream(user_prompt):\n",
        "    runtimeFlag = {\"\": 0}\n",
        "    system_prompt = 'Below is an instruction that describes a task. Write a response that appropriately completes the request.\\n\\n'\n",
        "    B_INST, E_INST = \"### Instruction:\\n\", \"### Response:\\n\"\n",
        "\n",
        "    prompt = f\"{system_prompt}{B_INST}{user_prompt.strip()}\\n\\n{E_INST}\"\n",
        "\n",
        "    inputs = tokenizer([prompt], return_tensors=\"pt\").to(runtimeFlag)\n",
        "\n",
        "    streamer = TextStreamer(tokenizer, skip_prompt=True, skip_special_tokens=True)\n",
        "\n",
        "    # Despite returning the usual output, the streamer will also print the generated text to stdout.\n",
        "    _ = src_model.generate(**inputs, streamer=streamer, max_new_tokens=100)"
      ],
      "metadata": {
        "id": "0y7hdCHNTRkP"
      },
      "execution_count": 16,
      "outputs": []
    },
    {
      "cell_type": "code",
      "source": [
        "stream(\"what is paracetamol\")"
      ],
      "metadata": {
        "colab": {
          "base_uri": "https://localhost:8080/"
        },
        "id": "kdmcUaARTXHM",
        "outputId": "95756711-26b9-4b59-e2a7-14136ec050f8"
      },
      "execution_count": 17,
      "outputs": [
        {
          "output_type": "stream",
          "name": "stderr",
          "text": [
            "Attempting to cast a BatchEncoding to type {'': 0}. This is not supported.\n",
            "Setting `pad_token_id` to `eos_token_id`:2 for open-end generation.\n",
            "/usr/local/lib/python3.10/dist-packages/transformers/generation/utils.py:1477: UserWarning: You are calling .generate() with the `input_ids` being on a device type different than your model's device. `input_ids` is on cpu, whereas the model is on cuda. You may experience unexpected behaviors or slower generation. Please make sure that you have put `input_ids` to the correct device by calling for example input_ids = input_ids.to('cuda') before running `.generate()`.\n",
            "  warnings.warn(\n"
          ]
        },
        {
          "output_type": "stream",
          "name": "stdout",
          "text": [
            "无法報導orongສໍາລັບ人類 Pusဘယ်လို最新ຍາbolautri kanila kêu辦法柔维持 kayo病人 đặtလွယ် ພິ Làm sabu製品โรงเรียน社区បន្ទូលခဲສໍາເລັດ病人 digunakan chó較ပတ်သက် Joko罰 ပထမဆုံးສໍາເລັດ罰病人 kayoបន្ទូល罰 bậc membaca 全 phóng勃 ပထမဆုံး phónguncurkan đặtព្រះអង្គ賞เกิดขึ้นກໍ体制体制体制ົ່າMga umumnya体制体制 kond体制uci phóng维持ສໍາເລັດကဲ体制体制体制体制 phóng维持维持维持恆 nútကဲ ပထမဆုံး umumnya体制体制体制 ပထမဆုံး umumnya phóng以来 umumnya体制体制 ပထမဆုံး ပထမဆုံး ပထမဆုံး ပထမဆုံး成功 phóng\n"
          ]
        }
      ]
    },
    {
      "cell_type": "code",
      "source": [
        "stream(\"အမေရိကန်နိုင်ငံ\")"
      ],
      "metadata": {
        "id": "ETOCd133UYt4"
      },
      "execution_count": null,
      "outputs": []
    },
    {
      "cell_type": "code",
      "source": [
        "stream(\"မျက်စိနာတာကို မကူးစက်အောင် ဘယ်လိုကာကွယ်ကြမလဲ!\")"
      ],
      "metadata": {
        "colab": {
          "base_uri": "https://localhost:8080/"
        },
        "id": "43E3nMocVF3T",
        "outputId": "7c8cb2ce-7cda-4f79-dcf1-28d6a8d4da91"
      },
      "execution_count": 18,
      "outputs": [
        {
          "output_type": "stream",
          "name": "stderr",
          "text": [
            "Attempting to cast a BatchEncoding to type {'': 0}. This is not supported.\n",
            "Setting `pad_token_id` to `eos_token_id`:2 for open-end generation.\n"
          ]
        },
        {
          "output_type": "stream",
          "name": "stdout",
          "text": [
            "ခေါင်း全面尽管迅 umumnya尽管နီးดีទឹក ນາຍ成功尽管ที่ผมទឹក Siapa Mab umumnya Ibrahim olehukai umumnya Lionelສໍາລັບ柔尽管နီး gue kelu Buka လုပ်ကိုင်ဂါโรงเรียน社区 tuy umumnya Lionel xanh Lionelສໍາລັບ peringkatព្រះអង្គ umumnya不過恆 koleksi Joko ពីរ体制体制បន្ទូលháສໍາເລັດ Lionelháទទួលâu体制ធាន giá較 Ibrahim Lionel重要 Lionelhá社交ធាន đặtpta体制 Lionelร์ Lionel Lionelร์邁合作 រីឯbiz体制体制柔 က်uci phónguci phóng体制 Lionel体制体制体制体制体制体制ဂါ phónguciuci phóng\n"
          ]
        }
      ]
    },
    {
      "cell_type": "markdown",
      "source": [
        "**Configuration 2**\n",
        "\n",
        "* **Transfer Input Embeddings:** **Enabled**\n",
        "* **Transfer Output Embeddings:** **Disabled**\n",
        "* **Transfer Decoder:** **Enabled**\n",
        "\n",
        "This configuration is similar to the first one, with the addition of decoder layer transfer:\n",
        "\n",
        "- The source model's input embedding layer and decoder layers will be updated with weights from the destination model. This might benefit tasks that involve the specific decoding capabilities of the destination model.\n",
        "- The source model's output embedding layer will **not** be modified, preserving its original vocabulary."
      ],
      "metadata": {
        "id": "Md0heWHEbQSZ"
      }
    },
    {
      "cell_type": "code",
      "source": [
        "transfer_input_embeddings = True\n",
        "transfer_output_embeddings = False\n",
        "transfer_decoder = True\n",
        "\n",
        "# Get vocabulary size of both models\n",
        "model_vocab_size = src_model.get_input_embeddings().num_embeddings\n",
        "tokenizer_vocab_size = len(tokenizer.vocab)\n",
        "\n",
        "# Check if tokenizer has a larger vocabulary\n",
        "if tokenizer_vocab_size > model_vocab_size:\n",
        "  print(\"Tokenizer vocabulary is larger than model's vocabulary. Adaptation is needed.\")\n",
        "  src_model.resize_token_embeddings(len(tokenizer))  # Adjust size if necessary\n",
        "\n",
        "if transfer_input_embeddings == True:\n",
        "  # Copy weights of the embedding layer from destination model to source\n",
        "  src_model.get_input_embeddings().load_state_dict(des_model.get_input_embeddings().state_dict())\n",
        "\n",
        "if transfer_output_embeddings == True:\n",
        "  src_model.get_output_embeddings().load_state_dict(des_model.get_output_embeddings().state_dict())\n",
        "\n",
        "if transfer_decoder == True:\n",
        "  # Copy weights of the decoder layer from destination model to source\n",
        "  src_model.get_decoder().load_state_dict(des_model.get_decoder().state_dict())\n",
        "\n",
        "else:\n",
        "    # Handle the case where tokenizer has smaller vocabulary (not recommended)\n",
        "    print(\"Tokenizer vocabulary is smaller than model's vocabulary. Adaptation not needed.\")\n"
      ],
      "metadata": {
        "id": "Mn1KqvxrbnzF"
      },
      "execution_count": 19,
      "outputs": []
    },
    {
      "cell_type": "code",
      "source": [
        "stream(\"what is paracetamol\")"
      ],
      "metadata": {
        "id": "i0-6vdWDbpPP",
        "colab": {
          "base_uri": "https://localhost:8080/"
        },
        "outputId": "da866338-0fea-4a48-fb24-946584bfae29"
      },
      "execution_count": 20,
      "outputs": [
        {
          "output_type": "stream",
          "name": "stderr",
          "text": [
            "Attempting to cast a BatchEncoding to type {'': 0}. This is not supported.\n",
            "Setting `pad_token_id` to `eos_token_id`:2 for open-end generation.\n"
          ]
        },
        {
          "output_type": "stream",
          "name": "stdout",
          "text": [
            "ស្លាប់ລົດ sulit知道နီ紋เรียမဆိုနီ phương dikatakanနာမဆို phươngulang出席 phươngໍາနာບານမဆို phương lượt permukaanမဆို phươngาศမဆို phươngitasiិសុទ្ធမဆို phương ကိုယ့်เรียนulang cố cố khẩnื้อมันก็ phươngitasi展開 Sandiမဆိုวลitasiakuanမယ္မဆို phươngเปลี่ยนulangมันก็itasi展開 tersedia扮ภัยมันก็展開寵 Sandikonfမဆိုນີ phương cố cốvoiภัยพันธitasi menegaskanภัย phươngwakမဆို扮 bìမဆိုကြ၏။ကြ၏။voi烤ကြ၏။ วัน伺itasiမဆိုမဆိုမဆို寵မဆိုលុយကြ၏။ยอม Mabမဆို\n"
          ]
        }
      ]
    },
    {
      "cell_type": "code",
      "source": [
        "stream(\"အမေရိကန်နိုင်ငံ\")"
      ],
      "metadata": {
        "id": "U7O-nLYFbrY9",
        "colab": {
          "base_uri": "https://localhost:8080/"
        },
        "outputId": "a1251aa6-8009-40fa-e366-dd89db9343ca"
      },
      "execution_count": 21,
      "outputs": [
        {
          "output_type": "stream",
          "name": "stderr",
          "text": [
            "Attempting to cast a BatchEncoding to type {'': 0}. This is not supported.\n",
            "Setting `pad_token_id` to `eos_token_id`:2 for open-end generation.\n"
          ]
        },
        {
          "output_type": "stream",
          "name": "stdout",
          "text": [
            "循環မဆို寵 simula展開မဆိုារ្យနာ yên paanoမဆို寵 yênຈະ မြို့ຶກမဆို phương ipinနီး主流 phương khẩn mataยอม phương phương phương phương phương phương phương phương phương phương phương phương phương phương phương phương phương phương phương phương phương phương phương phương phương yênເວລາທີ່ phương phương phương phương phương phương phương phương phương phương phương phương phương phương phương phương phương phương yênស្ថិត Gratis桑မဆို phương phương yênuciချက်တွေvoi phương yênោរពitasi phương拉克 diren menegaskan扮 phươngແລ评论bedaမဆို phươngແລပွား Sandi Ingat\n"
          ]
        }
      ]
    },
    {
      "cell_type": "code",
      "source": [
        "stream(\"မျက်စိနာတာကို မကူးစက်အောင် ဘယ်လိုကာကွယ်ကြမလဲ!\")"
      ],
      "metadata": {
        "id": "kPivBAqqbts5",
        "colab": {
          "base_uri": "https://localhost:8080/"
        },
        "outputId": "5ad29d47-3a17-4b0d-a522-39c07f8162fe"
      },
      "execution_count": 22,
      "outputs": [
        {
          "output_type": "stream",
          "name": "stderr",
          "text": [
            "Attempting to cast a BatchEncoding to type {'': 0}. This is not supported.\n",
            "Setting `pad_token_id` to `eos_token_id`:2 for open-end generation.\n"
          ]
        },
        {
          "output_type": "stream",
          "name": "stdout",
          "text": [
            "phố diren出席ดย ngại主流မဆိုနာធីអោយ permukaanမဆိုမဆို ທິ နိုင်่วàm主流 phátမဆို寵 Sandivoiမဆို phươngအသက် phương主流arap主流 ລວມ只有akuan PublikCha cặpulang phươngมันก็ phươngเปลี่ยนulang yên phương diren Chính ລວມakuan pendដាក់မဆို phươngมันก็itasiချက်တွေ keju phương phương phươngมันก็ Sandiចង់只有မဆို phươngเปลี่ยนมันก็ diren múမဆို phương phương phương phương phương phương phương phương phương phương phương phương phương phương phương phương phương phương phương phương phương phương phương phương phương phương yênuciulangချက်တွေ\n"
          ]
        }
      ]
    },
    {
      "cell_type": "markdown",
      "source": [
        "**Configuration 3**\n",
        "\n",
        "* **Transfer Input Embeddings:** **Enabled**\n",
        "* **Transfer Output Embeddings:** **Enabled**\n",
        "* **Transfer Decoder:** **Enabled**\n",
        "\n",
        "This configuration involves transferring weights across all three components:\n",
        "\n",
        "- The source model's input and output embedding layers, as well as the decoder layers, will be updated with weights from the destination model. This represents the most extensive transfer of knowledge, potentially leading to significant changes in the source model's behavior. It's crucial to carefully consider compatibility between the models and the potential impact on the source model's original functionalities.\n",
        "\n"
      ],
      "metadata": {
        "id": "4q-4PE06bUtc"
      }
    },
    {
      "cell_type": "code",
      "source": [
        "transfer_input_embeddings = True\n",
        "transfer_output_embeddings = True\n",
        "transfer_decoder = True\n",
        "\n",
        "# Get vocabulary size of both models\n",
        "model_vocab_size = src_model.get_input_embeddings().num_embeddings\n",
        "tokenizer_vocab_size = len(tokenizer.vocab)\n",
        "\n",
        "# Check if tokenizer has a larger vocabulary\n",
        "if tokenizer_vocab_size > model_vocab_size:\n",
        "  print(\"Tokenizer vocabulary is larger than model's vocabulary. Adaptation is needed.\")\n",
        "  src_model.resize_token_embeddings(len(tokenizer))  # Adjust size if necessary\n",
        "\n",
        "if transfer_input_embeddings == True:\n",
        "  # Copy weights of the embedding layer from destination model to source\n",
        "  src_model.get_input_embeddings().load_state_dict(des_model.get_input_embeddings().state_dict())\n",
        "\n",
        "if transfer_output_embeddings == True:\n",
        "  src_model.get_output_embeddings().load_state_dict(des_model.get_output_embeddings().state_dict())\n",
        "\n",
        "if transfer_decoder == True:\n",
        "  # Copy weights of the decoder layer from destination model to source\n",
        "  src_model.get_decoder().load_state_dict(des_model.get_decoder().state_dict())\n",
        "\n",
        "else:\n",
        "    # Handle the case where tokenizer has smaller vocabulary (not recommended)\n",
        "    print(\"Tokenizer vocabulary is smaller than model's vocabulary. Adaptation not needed.\")\n"
      ],
      "metadata": {
        "id": "-svEea1Aby58"
      },
      "execution_count": 23,
      "outputs": []
    },
    {
      "cell_type": "code",
      "source": [
        "stream(\"what is paracetamol\")"
      ],
      "metadata": {
        "id": "WjUnd076bz--",
        "colab": {
          "base_uri": "https://localhost:8080/"
        },
        "outputId": "d1048bbf-2837-4cd7-e286-6ab946c75634"
      },
      "execution_count": 24,
      "outputs": [
        {
          "output_type": "stream",
          "name": "stderr",
          "text": [
            "Attempting to cast a BatchEncoding to type {'': 0}. This is not supported.\n",
            "Setting `pad_token_id` to `eos_token_id`:2 for open-end generation.\n"
          ]
        },
        {
          "output_type": "stream",
          "name": "stdout",
          "text": [
            "\n",
            "Paracetamol, also known as acetaminophen, is a widely used analgesic and antipyretic medication that is commonly used to relieve mild to moderate pain and reduce fever. It is a type of analgesic that is often used to treat pain, fever, and other symptoms associated with common illnesses such as headaches, toothaches, and osteoarthritis. It is available in various forms, including tablets, capsules\n"
          ]
        }
      ]
    },
    {
      "cell_type": "code",
      "source": [
        "stream(\"အမေရိကန်နိုင်ငံ\")"
      ],
      "metadata": {
        "id": "YHTKwjwob2ZH",
        "colab": {
          "base_uri": "https://localhost:8080/"
        },
        "outputId": "8269bc5a-445c-4577-e2aa-c4d0b11b213d"
      },
      "execution_count": 25,
      "outputs": [
        {
          "output_type": "stream",
          "name": "stderr",
          "text": [
            "Attempting to cast a BatchEncoding to type {'': 0}. This is not supported.\n",
            "Setting `pad_token_id` to `eos_token_id`:2 for open-end generation.\n"
          ]
        },
        {
          "output_type": "stream",
          "name": "stdout",
          "text": [
            "အမေရိကန်နိုင်ငံသည် အရှေ့ဘက်ခြမ်းတွင် တည်ရှိပြီး ၁၉ ရာစုနှောင်းပိုင်းမှစ၍ ၁ ရာစုနှောင်းပိုင်းအထိ တည်ထောင်ခဲ့ပြီး၊ အရှေ့ဘက်ခြမ်းတွင် တည်ထောင်ခဲ့ပြီး၊ အရှေ့ဘက်ခြမ်းတွင် တည်ထောင်ခဲ့ပြီး၊ အရှေ့ဘက်ခြမ်းတွင် တည်ထောင်ခဲ့ပြီး၊ အရှေ့ဘက်ခြမ်းတွင် တည်ထောင်ခဲ့ပြီး၊ အရှေ့ဘက်ခြမ်းတွင် တည်ထောင်ခဲ့ပြီး၊ အရှေ့ဘက်ခြမ်းတွင် တည်ထောင်ခဲ့ပြီး၊ အရှေ့ဘက်\n"
          ]
        }
      ]
    },
    {
      "cell_type": "code",
      "source": [
        "stream(\"မျက်စိနာတာကို မကူးစက်အောင် ဘယ်လိုကာကွယ်ကြမလဲ!\")"
      ],
      "metadata": {
        "id": "lulZo43Ob4c5",
        "colab": {
          "base_uri": "https://localhost:8080/"
        },
        "outputId": "98f0ee2f-f4a3-4d13-9a8b-6cb62626fe1b"
      },
      "execution_count": 26,
      "outputs": [
        {
          "output_type": "stream",
          "name": "stderr",
          "text": [
            "Attempting to cast a BatchEncoding to type {'': 0}. This is not supported.\n",
            "Setting `pad_token_id` to `eos_token_id`:2 for open-end generation.\n"
          ]
        },
        {
          "output_type": "stream",
          "name": "stdout",
          "text": [
            "Saccharomyces cerevisiae (S. cerevisiae) သည် မိုးဗီယို့ဗီ (Monilinia fructicola) နှင့်အတူ မိုးဗီယို့ဗီ (Monilinia fuscata) တို့၏ မျိုးဆက်သစ်များနှင့် ပေါင်းစပ်သော ပိုးမွှားများနှင့် ပိုးမွှားများမှ ထွက်ရှိသည့် ပိုးမွှားများနှင့် ပိုးမွှားများမှ ထွက်ရှိသည့် ပ\n"
          ]
        }
      ]
    },
    {
      "cell_type": "markdown",
      "source": [
        "**Key Points:**\n",
        "\n",
        "- Each configuration offers a different level of knowledge transfer with varying degrees of potential impact on the source model's behavior.\n",
        "- Experimenting with these configurations and evaluating the results on your specific task is essential to determine the most effective approach for your use case.\n",
        "- Be cautious when enabling full knowledge transfer as it might lead to unintended consequences if the models have significant architectural differences or incompatible functionalities."
      ],
      "metadata": {
        "id": "CbksAzSTUgSn"
      }
    },
    {
      "cell_type": "markdown",
      "source": [
        "### Modle fine-tuning (Coming soon!)"
      ],
      "metadata": {
        "id": "rXy1TUM_TkZn"
      }
    },
    {
      "cell_type": "code",
      "source": [
        "# Save the fine-tuned model\n",
        "src_model.save_pretrained(\"my_fine-tuned_model\")\n",
        "\n",
        "# Save and load the tokenizer after saving the model\n",
        "tokenizer = AutoTokenizer.from_pretrained(\"my_fine-tuned_model\")"
      ],
      "metadata": {
        "id": "yc8iTEv1yfEO"
      },
      "execution_count": null,
      "outputs": []
    }
  ]
}